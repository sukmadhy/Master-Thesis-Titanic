{
 "cells": [
  {
   "cell_type": "markdown",
   "id": "6ac55863",
   "metadata": {},
   "source": [
    "## Import libraries"
   ]
  },
  {
   "cell_type": "code",
   "execution_count": 171,
   "id": "afaff21b",
   "metadata": {},
   "outputs": [],
   "source": [
    "import pandas as pd\n",
    "import numpy as np\n",
    "import seaborn as sns\n",
    "import matplotlib.pyplot as plt\n",
    "import warnings\n",
    "warnings.filterwarnings(\"ignore\")"
   ]
  },
  {
   "cell_type": "markdown",
   "id": "2fe5d925",
   "metadata": {},
   "source": [
    "## import dataset"
   ]
  },
  {
   "cell_type": "code",
   "execution_count": 172,
   "id": "6f13eb70",
   "metadata": {},
   "outputs": [
    {
     "name": "stdout",
     "output_type": "stream",
     "text": [
      "<class 'pandas.core.frame.DataFrame'>\n",
      "RangeIndex: 888 entries, 0 to 887\n",
      "Data columns (total 11 columns):\n",
      " #   Column       Non-Null Count  Dtype  \n",
      "---  ------       --------------  -----  \n",
      " 0   PassengerId  888 non-null    int64  \n",
      " 1   Survived     888 non-null    int64  \n",
      " 2   Pclass       888 non-null    float64\n",
      " 3   Name         888 non-null    object \n",
      " 4   Sex          888 non-null    int64  \n",
      " 5   Age          715 non-null    float64\n",
      " 6   SibSp        888 non-null    int64  \n",
      " 7   Parch        887 non-null    float64\n",
      " 8   Ticket       887 non-null    object \n",
      " 9   Fare         886 non-null    float64\n",
      " 10  Embarked     886 non-null    float64\n",
      "dtypes: float64(5), int64(4), object(2)\n",
      "memory usage: 76.4+ KB\n"
     ]
    }
   ],
   "source": [
    "df_titanic = pd.read_csv('titanic.csv')\n",
    "df_titanic.info()"
   ]
  },
  {
   "cell_type": "code",
   "execution_count": 173,
   "id": "ae7f3770",
   "metadata": {},
   "outputs": [
    {
     "data": {
      "text/html": [
       "<div>\n",
       "<style scoped>\n",
       "    .dataframe tbody tr th:only-of-type {\n",
       "        vertical-align: middle;\n",
       "    }\n",
       "\n",
       "    .dataframe tbody tr th {\n",
       "        vertical-align: top;\n",
       "    }\n",
       "\n",
       "    .dataframe thead th {\n",
       "        text-align: right;\n",
       "    }\n",
       "</style>\n",
       "<table border=\"1\" class=\"dataframe\">\n",
       "  <thead>\n",
       "    <tr style=\"text-align: right;\">\n",
       "      <th></th>\n",
       "      <th>PassengerId</th>\n",
       "      <th>Survived</th>\n",
       "      <th>Pclass</th>\n",
       "      <th>Name</th>\n",
       "      <th>Sex</th>\n",
       "      <th>Age</th>\n",
       "      <th>SibSp</th>\n",
       "      <th>Parch</th>\n",
       "      <th>Ticket</th>\n",
       "      <th>Fare</th>\n",
       "      <th>Embarked</th>\n",
       "    </tr>\n",
       "  </thead>\n",
       "  <tbody>\n",
       "    <tr>\n",
       "      <th>883</th>\n",
       "      <td>888</td>\n",
       "      <td>1</td>\n",
       "      <td>1.0</td>\n",
       "      <td>Graham, Miss. Margaret Edith</td>\n",
       "      <td>2</td>\n",
       "      <td>19.0</td>\n",
       "      <td>0</td>\n",
       "      <td>0.0</td>\n",
       "      <td>112053</td>\n",
       "      <td>30.00</td>\n",
       "      <td>1.0</td>\n",
       "    </tr>\n",
       "    <tr>\n",
       "      <th>884</th>\n",
       "      <td>889</td>\n",
       "      <td>0</td>\n",
       "      <td>3.0</td>\n",
       "      <td>Johnston, Miss. Catherine Helen \"Carrie\"</td>\n",
       "      <td>2</td>\n",
       "      <td>NaN</td>\n",
       "      <td>1</td>\n",
       "      <td>2.0</td>\n",
       "      <td>W./C. 6607</td>\n",
       "      <td>23.45</td>\n",
       "      <td>1.0</td>\n",
       "    </tr>\n",
       "    <tr>\n",
       "      <th>885</th>\n",
       "      <td>890</td>\n",
       "      <td>1</td>\n",
       "      <td>1.0</td>\n",
       "      <td>Behr, Mr. Karl Howell</td>\n",
       "      <td>1</td>\n",
       "      <td>26.0</td>\n",
       "      <td>0</td>\n",
       "      <td>0.0</td>\n",
       "      <td>111369</td>\n",
       "      <td>30.00</td>\n",
       "      <td>2.0</td>\n",
       "    </tr>\n",
       "    <tr>\n",
       "      <th>886</th>\n",
       "      <td>891</td>\n",
       "      <td>0</td>\n",
       "      <td>3.0</td>\n",
       "      <td>Dooley, Mr. Patrick</td>\n",
       "      <td>1</td>\n",
       "      <td>32.0</td>\n",
       "      <td>0</td>\n",
       "      <td>0.0</td>\n",
       "      <td>370376</td>\n",
       "      <td>7.75</td>\n",
       "      <td>3.0</td>\n",
       "    </tr>\n",
       "    <tr>\n",
       "      <th>887</th>\n",
       "      <td>1000</td>\n",
       "      <td>1</td>\n",
       "      <td>1.0</td>\n",
       "      <td>Mr. Frederick Maxfield Hoyt</td>\n",
       "      <td>1</td>\n",
       "      <td>38.0</td>\n",
       "      <td>1</td>\n",
       "      <td>0.0</td>\n",
       "      <td>19943</td>\n",
       "      <td>90.00</td>\n",
       "      <td>1.0</td>\n",
       "    </tr>\n",
       "  </tbody>\n",
       "</table>\n",
       "</div>"
      ],
      "text/plain": [
       "     PassengerId  Survived  Pclass                                      Name  \\\n",
       "883          888         1     1.0              Graham, Miss. Margaret Edith   \n",
       "884          889         0     3.0  Johnston, Miss. Catherine Helen \"Carrie\"   \n",
       "885          890         1     1.0                     Behr, Mr. Karl Howell   \n",
       "886          891         0     3.0                       Dooley, Mr. Patrick   \n",
       "887         1000         1     1.0               Mr. Frederick Maxfield Hoyt   \n",
       "\n",
       "     Sex   Age  SibSp  Parch      Ticket   Fare  Embarked  \n",
       "883    2  19.0      0    0.0      112053  30.00       1.0  \n",
       "884    2   NaN      1    2.0  W./C. 6607  23.45       1.0  \n",
       "885    1  26.0      0    0.0      111369  30.00       2.0  \n",
       "886    1  32.0      0    0.0      370376   7.75       3.0  \n",
       "887    1  38.0      1    0.0       19943  90.00       1.0  "
      ]
     },
     "execution_count": 173,
     "metadata": {},
     "output_type": "execute_result"
    }
   ],
   "source": [
    "df_titanic.tail()"
   ]
  },
  {
   "cell_type": "markdown",
   "id": "84ea8f50",
   "metadata": {},
   "source": [
    "The unnecessary columns will be dropped."
   ]
  },
  {
   "cell_type": "code",
   "execution_count": 174,
   "id": "3e0ab0bc",
   "metadata": {},
   "outputs": [],
   "source": [
    "df_titanic = df_titanic.drop(['PassengerId', 'Name', 'Ticket'], axis=1)"
   ]
  },
  {
   "cell_type": "code",
   "execution_count": 175,
   "id": "293f02a3",
   "metadata": {},
   "outputs": [
    {
     "data": {
      "image/png": "[encoded data removed]",
      "text/plain": [
       "<Figure size 2000x500 with 8 Axes>"
      ]
     },
     "metadata": {},
     "output_type": "display_data"
    }
   ],
   "source": [
    "fig, axs = plt.subplots(ncols=8, nrows=1, figsize=(20, 5))\n",
    "index = 0\n",
    "axs = axs.flatten()\n",
    "for k,v in df_titanic.items():\n",
    "    sns.boxplot(y=k, data=df_titanic, ax=axs[index])\n",
    "    index += 1\n",
    "plt.tight_layout(pad=0.4, w_pad=0.5, h_pad=5.0)\n",
    "plt.show()"
   ]
  },
  {
   "cell_type": "markdown",
   "id": "b271e7fb",
   "metadata": {},
   "source": [
    "# Outliers"
   ]
  },
  {
   "cell_type": "code",
   "execution_count": 176,
   "id": "c169c5d6",
   "metadata": {
    "scrolled": false
   },
   "outputs": [
    {
     "name": "stdout",
     "output_type": "stream",
     "text": [
      "Column Survived has 0.00% outliers based on IQR\n",
      "Column Pclass has 0.11% outliers based on IQR\n",
      "Column Sex has 0.00% outliers based on IQR\n",
      "Column Age has 1.58% outliers based on IQR\n",
      "Column SibSp has 5.29% outliers based on IQR\n",
      "Column Parch has 99.89% outliers based on IQR\n",
      "Column Fare has 13.29% outliers based on IQR\n",
      "Column Embarked has 0.00% outliers based on IQR\n"
     ]
    }
   ],
   "source": [
    "for k, v in df_titanic.items():\n",
    "    Q1 = v.quantile(0.25)\n",
    "    Q3 = v.quantile(0.75)\n",
    "    IQR = Q3 - Q1\n",
    "    v_col = v[(v <= Q1 - 1.5 * IQR) | (v >= Q3 + 1.5 * IQR)]\n",
    "    perc = np.shape(v_col)[0] * 100.0 / np.shape(df_titanic)[0]\n",
    "    print(f\"Column {k} has {perc:.2f}% outliers based on IQR\")"
   ]
  },
  {
   "cell_type": "code",
   "execution_count": 177,
   "id": "24bfbf93",
   "metadata": {},
   "outputs": [
    {
     "data": {
      "text/html": [
       "<div>\n",
       "<style scoped>\n",
       "    .dataframe tbody tr th:only-of-type {\n",
       "        vertical-align: middle;\n",
       "    }\n",
       "\n",
       "    .dataframe tbody tr th {\n",
       "        vertical-align: top;\n",
       "    }\n",
       "\n",
       "    .dataframe thead th {\n",
       "        text-align: right;\n",
       "    }\n",
       "</style>\n",
       "<table border=\"1\" class=\"dataframe\">\n",
       "  <thead>\n",
       "    <tr style=\"text-align: right;\">\n",
       "      <th></th>\n",
       "      <th>Survived</th>\n",
       "      <th>Pclass</th>\n",
       "      <th>Sex</th>\n",
       "      <th>Age</th>\n",
       "      <th>SibSp</th>\n",
       "      <th>Parch</th>\n",
       "      <th>Fare</th>\n",
       "      <th>Embarked</th>\n",
       "    </tr>\n",
       "  </thead>\n",
       "  <tbody>\n",
       "    <tr>\n",
       "      <th>count</th>\n",
       "      <td>888.000000</td>\n",
       "      <td>888.00000</td>\n",
       "      <td>888.000000</td>\n",
       "      <td>715.000000</td>\n",
       "      <td>888.000000</td>\n",
       "      <td>887.000000</td>\n",
       "      <td>886.000000</td>\n",
       "      <td>886.000000</td>\n",
       "    </tr>\n",
       "    <tr>\n",
       "      <th>mean</th>\n",
       "      <td>0.382883</td>\n",
       "      <td>2.30518</td>\n",
       "      <td>1.351351</td>\n",
       "      <td>36.006993</td>\n",
       "      <td>0.602477</td>\n",
       "      <td>0.370913</td>\n",
       "      <td>32.024786</td>\n",
       "      <td>1.363431</td>\n",
       "    </tr>\n",
       "    <tr>\n",
       "      <th>std</th>\n",
       "      <td>0.486364</td>\n",
       "      <td>0.84697</td>\n",
       "      <td>0.477662</td>\n",
       "      <td>165.601302</td>\n",
       "      <td>2.579661</td>\n",
       "      <td>0.769751</td>\n",
       "      <td>49.947084</td>\n",
       "      <td>0.636884</td>\n",
       "    </tr>\n",
       "    <tr>\n",
       "      <th>min</th>\n",
       "      <td>0.000000</td>\n",
       "      <td>-2.00000</td>\n",
       "      <td>1.000000</td>\n",
       "      <td>-12.000000</td>\n",
       "      <td>0.000000</td>\n",
       "      <td>0.000000</td>\n",
       "      <td>-90.000000</td>\n",
       "      <td>1.000000</td>\n",
       "    </tr>\n",
       "    <tr>\n",
       "      <th>25%</th>\n",
       "      <td>0.000000</td>\n",
       "      <td>2.00000</td>\n",
       "      <td>1.000000</td>\n",
       "      <td>20.000000</td>\n",
       "      <td>0.000000</td>\n",
       "      <td>0.000000</td>\n",
       "      <td>7.900000</td>\n",
       "      <td>1.000000</td>\n",
       "    </tr>\n",
       "    <tr>\n",
       "      <th>50%</th>\n",
       "      <td>0.000000</td>\n",
       "      <td>3.00000</td>\n",
       "      <td>1.000000</td>\n",
       "      <td>28.000000</td>\n",
       "      <td>0.000000</td>\n",
       "      <td>0.000000</td>\n",
       "      <td>14.450000</td>\n",
       "      <td>1.000000</td>\n",
       "    </tr>\n",
       "    <tr>\n",
       "      <th>75%</th>\n",
       "      <td>1.000000</td>\n",
       "      <td>3.00000</td>\n",
       "      <td>2.000000</td>\n",
       "      <td>38.000000</td>\n",
       "      <td>1.000000</td>\n",
       "      <td>0.000000</td>\n",
       "      <td>30.700000</td>\n",
       "      <td>2.000000</td>\n",
       "    </tr>\n",
       "    <tr>\n",
       "      <th>max</th>\n",
       "      <td>1.000000</td>\n",
       "      <td>3.00000</td>\n",
       "      <td>2.000000</td>\n",
       "      <td>4435.000000</td>\n",
       "      <td>70.000000</td>\n",
       "      <td>5.000000</td>\n",
       "      <td>512.330000</td>\n",
       "      <td>3.000000</td>\n",
       "    </tr>\n",
       "  </tbody>\n",
       "</table>\n",
       "</div>"
      ],
      "text/plain": [
       "         Survived     Pclass         Sex          Age       SibSp       Parch  \\\n",
       "count  888.000000  888.00000  888.000000   715.000000  888.000000  887.000000   \n",
       "mean     0.382883    2.30518    1.351351    36.006993    0.602477    0.370913   \n",
       "std      0.486364    0.84697    0.477662   165.601302    2.579661    0.769751   \n",
       "min      0.000000   -2.00000    1.000000   -12.000000    0.000000    0.000000   \n",
       "25%      0.000000    2.00000    1.000000    20.000000    0.000000    0.000000   \n",
       "50%      0.000000    3.00000    1.000000    28.000000    0.000000    0.000000   \n",
       "75%      1.000000    3.00000    2.000000    38.000000    1.000000    0.000000   \n",
       "max      1.000000    3.00000    2.000000  4435.000000   70.000000    5.000000   \n",
       "\n",
       "             Fare    Embarked  \n",
       "count  886.000000  886.000000  \n",
       "mean    32.024786    1.363431  \n",
       "std     49.947084    0.636884  \n",
       "min    -90.000000    1.000000  \n",
       "25%      7.900000    1.000000  \n",
       "50%     14.450000    1.000000  \n",
       "75%     30.700000    2.000000  \n",
       "max    512.330000    3.000000  "
      ]
     },
     "execution_count": 177,
     "metadata": {},
     "output_type": "execute_result"
    }
   ],
   "source": [
    "df_titanic.describe()"
   ]
  },
  {
   "cell_type": "markdown",
   "id": "f7ad5a1e",
   "metadata": {},
   "source": [
    "We will handle the outlier of those six columns above."
   ]
  },
  {
   "cell_type": "markdown",
   "id": "d6fabcfa",
   "metadata": {},
   "source": [
    "### Survived"
   ]
  },
  {
   "cell_type": "code",
   "execution_count": 178,
   "id": "2d8e679d",
   "metadata": {},
   "outputs": [
    {
     "data": {
      "image/png": "[encoded data removed]",
      "text/plain": [
       "<Figure size 500x200 with 1 Axes>"
      ]
     },
     "metadata": {},
     "output_type": "display_data"
    }
   ],
   "source": [
    "df_titanic.boxplot(column=['Survived'],fontsize=10,rot=0,grid=False,figsize=(5,2), vert=False)\n",
    "plt.show()"
   ]
  },
  {
   "cell_type": "code",
   "execution_count": 179,
   "id": "b9189021",
   "metadata": {
    "scrolled": true
   },
   "outputs": [
    {
     "name": "stdout",
     "output_type": "stream",
     "text": [
      "Q1= 0.0 Q3= 1.0 IQR= 1.0 Min= -1.5 Max= 2.5\n"
     ]
    }
   ],
   "source": [
    "Q1 = df_titanic['Survived'].quantile(0.25)\n",
    "Q3 = df_titanic['Survived'].quantile(0.75)\n",
    "\n",
    "IQR = Q3 - Q1\n",
    "LB = Q1 - 1.5 * IQR\n",
    "UB = Q3 + 1.5 * IQR\n",
    "\n",
    "print('Q1=',Q1, 'Q3=',Q3, 'IQR=',IQR, 'Min=',LB, 'Max=',UB)"
   ]
  },
  {
   "cell_type": "code",
   "execution_count": 180,
   "id": "adb83409",
   "metadata": {},
   "outputs": [
    {
     "data": {
      "text/html": [
       "<div>\n",
       "<style scoped>\n",
       "    .dataframe tbody tr th:only-of-type {\n",
       "        vertical-align: middle;\n",
       "    }\n",
       "\n",
       "    .dataframe tbody tr th {\n",
       "        vertical-align: top;\n",
       "    }\n",
       "\n",
       "    .dataframe thead th {\n",
       "        text-align: right;\n",
       "    }\n",
       "</style>\n",
       "<table border=\"1\" class=\"dataframe\">\n",
       "  <thead>\n",
       "    <tr style=\"text-align: right;\">\n",
       "      <th></th>\n",
       "      <th>Survived</th>\n",
       "      <th>Pclass</th>\n",
       "      <th>Sex</th>\n",
       "      <th>Age</th>\n",
       "      <th>SibSp</th>\n",
       "      <th>Parch</th>\n",
       "      <th>Fare</th>\n",
       "      <th>Embarked</th>\n",
       "    </tr>\n",
       "  </thead>\n",
       "  <tbody>\n",
       "  </tbody>\n",
       "</table>\n",
       "</div>"
      ],
      "text/plain": [
       "Empty DataFrame\n",
       "Columns: [Survived, Pclass, Sex, Age, SibSp, Parch, Fare, Embarked]\n",
       "Index: []"
      ]
     },
     "execution_count": 180,
     "metadata": {},
     "output_type": "execute_result"
    }
   ],
   "source": [
    "df_titanic[(df_titanic['Survived'] < LB) | (df_titanic['Survived'] > UB)]"
   ]
  },
  {
   "cell_type": "markdown",
   "id": "0749639e",
   "metadata": {},
   "source": [
    "#### there is no outliers detected in Survived column "
   ]
  },
  {
   "cell_type": "code",
   "execution_count": 181,
   "id": "80aca738",
   "metadata": {},
   "outputs": [
    {
     "data": {
      "text/plain": [
       "array([0, 1])"
      ]
     },
     "execution_count": 181,
     "metadata": {},
     "output_type": "execute_result"
    }
   ],
   "source": [
    "df_titanic['Survived'].unique()"
   ]
  },
  {
   "cell_type": "markdown",
   "id": "b9da1309",
   "metadata": {},
   "source": [
    "### Pclass"
   ]
  },
  {
   "cell_type": "code",
   "execution_count": 182,
   "id": "e9d9d7a7",
   "metadata": {},
   "outputs": [
    {
     "data": {
      "image/png": "[encoded data removed]",
      "text/plain": [
       "<Figure size 500x200 with 1 Axes>"
      ]
     },
     "metadata": {},
     "output_type": "display_data"
    }
   ],
   "source": [
    "df_titanic.boxplot(column=['Pclass'],fontsize=10,rot=0,grid=False,figsize=(5,2),vert=False)\n",
    "plt.show()"
   ]
  },
  {
   "cell_type": "code",
   "execution_count": 183,
   "id": "5e29a0fc",
   "metadata": {},
   "outputs": [
    {
     "name": "stdout",
     "output_type": "stream",
     "text": [
      "Q1= 2.0 Q3= 3.0 IQR= 1.0 Min= 0.5 Max= 4.5\n"
     ]
    }
   ],
   "source": [
    "Q1 = df_titanic['Pclass'].quantile(0.25)\n",
    "Q3 = df_titanic['Pclass'].quantile(0.75)\n",
    "\n",
    "IQR = Q3 - Q1\n",
    "LB = Q1 - 1.5 * IQR\n",
    "UB = Q3 + 1.5 * IQR\n",
    "\n",
    "print('Q1=',Q1, 'Q3=',Q3, 'IQR=',IQR, 'Min=',LB, 'Max=',UB)"
   ]
  },
  {
   "cell_type": "code",
   "execution_count": 184,
   "id": "ca888f3b",
   "metadata": {
    "scrolled": true
   },
   "outputs": [
    {
     "data": {
      "image/png": "[encoded data removed]",
      "text/plain": [
       "<Figure size 500x200 with 1 Axes>"
      ]
     },
     "metadata": {},
     "output_type": "display_data"
    }
   ],
   "source": [
    "df_titanic['Pclass'][(df_titanic['Pclass'] < LB) | (df_titanic['Pclass'] > UB)] = np.median(df_titanic['Pclass'])\n",
    "\n",
    "df_titanic.boxplot(column=['Pclass'],fontsize=10,rot=0,grid=False,figsize=(5,2),vert=False)\n",
    "plt.show()"
   ]
  },
  {
   "cell_type": "markdown",
   "id": "1e1866cb",
   "metadata": {},
   "source": [
    "### Age"
   ]
  },
  {
   "cell_type": "code",
   "execution_count": 185,
   "id": "d901dbd3",
   "metadata": {},
   "outputs": [
    {
     "data": {
      "image/png": "[encoded data removed]",
      "text/plain": [
       "<Figure size 500x200 with 1 Axes>"
      ]
     },
     "metadata": {},
     "output_type": "display_data"
    }
   ],
   "source": [
    "df_titanic.boxplot(column=['Age'],fontsize=10,rot=0,grid=False,figsize=(5,2),vert=False)\n",
    "plt.show()"
   ]
  },
  {
   "cell_type": "code",
   "execution_count": 186,
   "id": "355bb82d",
   "metadata": {},
   "outputs": [
    {
     "name": "stdout",
     "output_type": "stream",
     "text": [
      "Q1= 20.0 Q3= 38.0 IQR= 18.0 Min= -7.0 Max= 65.0\n"
     ]
    }
   ],
   "source": [
    "Q1 = df_titanic['Age'].quantile(0.25)\n",
    "Q3 = df_titanic['Age'].quantile(0.75)\n",
    "\n",
    "IQR = Q3 - Q1\n",
    "LB = Q1 - 1.5 * IQR\n",
    "UB = Q3 + 1.5 * IQR\n",
    "\n",
    "print('Q1=',Q1, 'Q3=',Q3, 'IQR=',IQR, 'Min=',LB, 'Max=',UB)"
   ]
  },
  {
   "cell_type": "code",
   "execution_count": 187,
   "id": "827d5ecb",
   "metadata": {},
   "outputs": [
    {
     "data": {
      "image/png": "[encoded data removed]",
      "text/plain": [
       "<Figure size 500x200 with 1 Axes>"
      ]
     },
     "metadata": {},
     "output_type": "display_data"
    }
   ],
   "source": [
    "df_titanic['Age'][(df_titanic['Age'] < LB) | (df_titanic['Age'] > UB)] = np.median(df_titanic['Age'])\n",
    "\n",
    "df_titanic.boxplot(column=['Age'],fontsize=10,rot=0,grid=False,figsize=(5,2),vert=False)\n",
    "plt.show()"
   ]
  },
  {
   "cell_type": "markdown",
   "id": "1236b7a5",
   "metadata": {},
   "source": [
    "### SibSp"
   ]
  },
  {
   "cell_type": "code",
   "execution_count": 188,
   "id": "99e5a891",
   "metadata": {},
   "outputs": [
    {
     "data": {
      "image/png": "[encoded data removed]",
      "text/plain": [
       "<Figure size 500x200 with 1 Axes>"
      ]
     },
     "metadata": {},
     "output_type": "display_data"
    }
   ],
   "source": [
    "df_titanic.boxplot(column=['SibSp'],fontsize=10,rot=0,grid=False,figsize=(5,2),vert=False)\n",
    "plt.show()"
   ]
  },
  {
   "cell_type": "code",
   "execution_count": 189,
   "id": "b169a97d",
   "metadata": {},
   "outputs": [
    {
     "name": "stdout",
     "output_type": "stream",
     "text": [
      "Q1= 0.0 Q3= 1.0 IQR= 1.0 Min= -1.5 Max= 2.5\n"
     ]
    }
   ],
   "source": [
    "Q1 = df_titanic['SibSp'].quantile(0.25)\n",
    "Q3 = df_titanic['SibSp'].quantile(0.75)\n",
    "\n",
    "IQR = Q3 - Q1\n",
    "LB = Q1 - 1.5 * IQR\n",
    "UB = Q3 + 1.5 * IQR\n",
    "\n",
    "print('Q1=',Q1, 'Q3=',Q3, 'IQR=',IQR, 'Min=',LB, 'Max=',UB)"
   ]
  },
  {
   "cell_type": "code",
   "execution_count": 190,
   "id": "79b47de5",
   "metadata": {
    "scrolled": false
   },
   "outputs": [],
   "source": [
    "df_titanic['SibSp'][(df_titanic['SibSp'] < LB) | (df_titanic['SibSp'] > UB)] = np.median(df_titanic['SibSp'])\n"
   ]
  },
  {
   "cell_type": "code",
   "execution_count": 191,
   "id": "3a02a103",
   "metadata": {},
   "outputs": [
    {
     "data": {
      "image/png": "[encoded data removed]",
      "text/plain": [
       "<Figure size 500x200 with 1 Axes>"
      ]
     },
     "metadata": {},
     "output_type": "display_data"
    }
   ],
   "source": [
    "df_titanic.boxplot(column=['SibSp'],fontsize=10,rot=0,grid=False,figsize=(5,2),vert=False)\n",
    "plt.show()"
   ]
  },
  {
   "cell_type": "markdown",
   "id": "0f83356c",
   "metadata": {},
   "source": [
    "### Parch"
   ]
  },
  {
   "cell_type": "code",
   "execution_count": 194,
   "id": "533224c2",
   "metadata": {},
   "outputs": [
    {
     "data": {
      "image/png": "[encoded data removed]",
      "text/plain": [
       "<Figure size 500x200 with 1 Axes>"
      ]
     },
     "metadata": {},
     "output_type": "display_data"
    }
   ],
   "source": [
    "df_titanic.boxplot(column=['Parch'],fontsize=10,rot=0,grid=False,figsize=(5,2),vert=False)\n",
    "plt.show()"
   ]
  },
  {
   "cell_type": "code",
   "execution_count": 195,
   "id": "a8000707",
   "metadata": {},
   "outputs": [
    {
     "name": "stdout",
     "output_type": "stream",
     "text": [
      "Q1= 0.0 Q3= 0.0 IQR= 0.0 Min= 0.0 Max= 0.0\n"
     ]
    }
   ],
   "source": [
    "Q1 = df_titanic['Parch'].quantile(0.25)\n",
    "Q3 = df_titanic['Parch'].quantile(0.75)\n",
    "\n",
    "IQR = Q3 - Q1\n",
    "LB = Q1 - 1.5 * IQR\n",
    "UB = Q3 + 1.5 * IQR\n",
    "\n",
    "print('Q1=',Q1, 'Q3=',Q3, 'IQR=',IQR, 'Min=',LB, 'Max=',UB)"
   ]
  },
  {
   "cell_type": "code",
   "execution_count": 196,
   "id": "191bb5ec",
   "metadata": {},
   "outputs": [],
   "source": [
    "df_titanic['Parch'][(df_titanic['Parch'] < LB) | (df_titanic['Parch'] > UB)] = np.median(df_titanic['Parch'])"
   ]
  },
  {
   "cell_type": "code",
   "execution_count": 197,
   "id": "07f5cca8",
   "metadata": {},
   "outputs": [
    {
     "data": {
      "image/png": "[encoded data removed]",
      "text/plain": [
       "<Figure size 500x200 with 1 Axes>"
      ]
     },
     "metadata": {},
     "output_type": "display_data"
    }
   ],
   "source": [
    "df_titanic.boxplot(column=['Parch'],fontsize=10,rot=0,grid=False,figsize=(5,2),vert=False)\n",
    "plt.show()"
   ]
  },
  {
   "cell_type": "markdown",
   "id": "f75faa4e",
   "metadata": {},
   "source": [
    "### Fare"
   ]
  },
  {
   "cell_type": "code",
   "execution_count": 198,
   "id": "fcc2d12a",
   "metadata": {
    "scrolled": false
   },
   "outputs": [
    {
     "data": {
      "image/png": "[encoded data removed]",
      "text/plain": [
       "<Figure size 500x200 with 1 Axes>"
      ]
     },
     "metadata": {},
     "output_type": "display_data"
    }
   ],
   "source": [
    "df_titanic.boxplot(column=['Fare'],fontsize=10,rot=0,grid=False,figsize=(5,2), vert=False)\n",
    "plt.show()"
   ]
  },
  {
   "cell_type": "code",
   "execution_count": 199,
   "id": "48274ca1",
   "metadata": {},
   "outputs": [
    {
     "name": "stdout",
     "output_type": "stream",
     "text": [
      "Q1= 7.9 Q3= 30.7 IQR= 22.799999999999997 Min= -26.299999999999997 Max= 64.89999999999999\n"
     ]
    }
   ],
   "source": [
    "Q1 = df_titanic['Fare'].quantile(0.25)\n",
    "Q3 = df_titanic['Fare'].quantile(0.75)\n",
    "\n",
    "IQR = Q3 - Q1\n",
    "LB = Q1 - 1.5 * IQR\n",
    "UB = Q3 + 1.5 * IQR\n",
    "\n",
    "print('Q1=',Q1, 'Q3=',Q3, 'IQR=',IQR, 'Min=',LB, 'Max=',UB)"
   ]
  },
  {
   "cell_type": "code",
   "execution_count": 200,
   "id": "87cfd21d",
   "metadata": {},
   "outputs": [],
   "source": [
    "df_titanic['Fare'][(df_titanic['Fare'] < LB) | (df_titanic['Fare'] > UB)] = np.median(df_titanic['Fare'])\n"
   ]
  },
  {
   "cell_type": "code",
   "execution_count": 201,
   "id": "0b4103c9",
   "metadata": {},
   "outputs": [
    {
     "data": {
      "image/png": "[encoded data removed]",
      "text/plain": [
       "<Figure size 500x200 with 1 Axes>"
      ]
     },
     "metadata": {},
     "output_type": "display_data"
    }
   ],
   "source": [
    "df_titanic.boxplot(column=['Fare'],fontsize=10,rot=0,grid=False,figsize=(5,2),vert=False)\n",
    "plt.show()"
   ]
  },
  {
   "cell_type": "code",
   "execution_count": 202,
   "id": "ccdadcd4",
   "metadata": {},
   "outputs": [
    {
     "data": {
      "text/html": [
       "<div>\n",
       "<style scoped>\n",
       "    .dataframe tbody tr th:only-of-type {\n",
       "        vertical-align: middle;\n",
       "    }\n",
       "\n",
       "    .dataframe tbody tr th {\n",
       "        vertical-align: top;\n",
       "    }\n",
       "\n",
       "    .dataframe thead th {\n",
       "        text-align: right;\n",
       "    }\n",
       "</style>\n",
       "<table border=\"1\" class=\"dataframe\">\n",
       "  <thead>\n",
       "    <tr style=\"text-align: right;\">\n",
       "      <th></th>\n",
       "      <th>Survived</th>\n",
       "      <th>Pclass</th>\n",
       "      <th>Sex</th>\n",
       "      <th>Age</th>\n",
       "      <th>SibSp</th>\n",
       "      <th>Parch</th>\n",
       "      <th>Fare</th>\n",
       "      <th>Embarked</th>\n",
       "    </tr>\n",
       "  </thead>\n",
       "  <tbody>\n",
       "    <tr>\n",
       "      <th>count</th>\n",
       "      <td>888.000000</td>\n",
       "      <td>888.000000</td>\n",
       "      <td>888.000000</td>\n",
       "      <td>704.000000</td>\n",
       "      <td>888.000000</td>\n",
       "      <td>676.0</td>\n",
       "      <td>768.000000</td>\n",
       "      <td>886.000000</td>\n",
       "    </tr>\n",
       "    <tr>\n",
       "      <th>mean</th>\n",
       "      <td>0.382883</td>\n",
       "      <td>2.310811</td>\n",
       "      <td>1.351351</td>\n",
       "      <td>29.119318</td>\n",
       "      <td>0.297297</td>\n",
       "      <td>0.0</td>\n",
       "      <td>17.637539</td>\n",
       "      <td>1.363431</td>\n",
       "    </tr>\n",
       "    <tr>\n",
       "      <th>std</th>\n",
       "      <td>0.486364</td>\n",
       "      <td>0.834850</td>\n",
       "      <td>0.477662</td>\n",
       "      <td>13.998475</td>\n",
       "      <td>0.521806</td>\n",
       "      <td>0.0</td>\n",
       "      <td>13.353302</td>\n",
       "      <td>0.636884</td>\n",
       "    </tr>\n",
       "    <tr>\n",
       "      <th>min</th>\n",
       "      <td>0.000000</td>\n",
       "      <td>1.000000</td>\n",
       "      <td>1.000000</td>\n",
       "      <td>-3.000000</td>\n",
       "      <td>0.000000</td>\n",
       "      <td>0.0</td>\n",
       "      <td>0.000000</td>\n",
       "      <td>1.000000</td>\n",
       "    </tr>\n",
       "    <tr>\n",
       "      <th>25%</th>\n",
       "      <td>0.000000</td>\n",
       "      <td>2.000000</td>\n",
       "      <td>1.000000</td>\n",
       "      <td>20.000000</td>\n",
       "      <td>0.000000</td>\n",
       "      <td>0.0</td>\n",
       "      <td>7.900000</td>\n",
       "      <td>1.000000</td>\n",
       "    </tr>\n",
       "    <tr>\n",
       "      <th>50%</th>\n",
       "      <td>0.000000</td>\n",
       "      <td>3.000000</td>\n",
       "      <td>1.000000</td>\n",
       "      <td>28.000000</td>\n",
       "      <td>0.000000</td>\n",
       "      <td>0.0</td>\n",
       "      <td>12.765000</td>\n",
       "      <td>1.000000</td>\n",
       "    </tr>\n",
       "    <tr>\n",
       "      <th>75%</th>\n",
       "      <td>1.000000</td>\n",
       "      <td>3.000000</td>\n",
       "      <td>2.000000</td>\n",
       "      <td>38.000000</td>\n",
       "      <td>1.000000</td>\n",
       "      <td>0.0</td>\n",
       "      <td>26.000000</td>\n",
       "      <td>2.000000</td>\n",
       "    </tr>\n",
       "    <tr>\n",
       "      <th>max</th>\n",
       "      <td>1.000000</td>\n",
       "      <td>3.000000</td>\n",
       "      <td>2.000000</td>\n",
       "      <td>65.000000</td>\n",
       "      <td>2.000000</td>\n",
       "      <td>0.0</td>\n",
       "      <td>63.360000</td>\n",
       "      <td>3.000000</td>\n",
       "    </tr>\n",
       "  </tbody>\n",
       "</table>\n",
       "</div>"
      ],
      "text/plain": [
       "         Survived      Pclass         Sex         Age       SibSp  Parch  \\\n",
       "count  888.000000  888.000000  888.000000  704.000000  888.000000  676.0   \n",
       "mean     0.382883    2.310811    1.351351   29.119318    0.297297    0.0   \n",
       "std      0.486364    0.834850    0.477662   13.998475    0.521806    0.0   \n",
       "min      0.000000    1.000000    1.000000   -3.000000    0.000000    0.0   \n",
       "25%      0.000000    2.000000    1.000000   20.000000    0.000000    0.0   \n",
       "50%      0.000000    3.000000    1.000000   28.000000    0.000000    0.0   \n",
       "75%      1.000000    3.000000    2.000000   38.000000    1.000000    0.0   \n",
       "max      1.000000    3.000000    2.000000   65.000000    2.000000    0.0   \n",
       "\n",
       "             Fare    Embarked  \n",
       "count  768.000000  886.000000  \n",
       "mean    17.637539    1.363431  \n",
       "std     13.353302    0.636884  \n",
       "min      0.000000    1.000000  \n",
       "25%      7.900000    1.000000  \n",
       "50%     12.765000    1.000000  \n",
       "75%     26.000000    2.000000  \n",
       "max     63.360000    3.000000  "
      ]
     },
     "execution_count": 202,
     "metadata": {},
     "output_type": "execute_result"
    }
   ],
   "source": [
    "df_titanic.describe()"
   ]
  },
  {
   "cell_type": "code",
   "execution_count": 203,
   "id": "80f763ff",
   "metadata": {},
   "outputs": [],
   "source": [
    "# saving the dataframe\n",
    "df_titanic.to_csv('titanic2_iqr_median.csv', index=False)"
   ]
  },
  {
   "cell_type": "code",
   "execution_count": null,
   "id": "afce1510",
   "metadata": {},
   "outputs": [],
   "source": []
  }
 ],
 "metadata": {
  "kernelspec": {
   "display_name": "Python 3 (ipykernel)",
   "language": "python",
   "name": "python3"
  },
  "language_info": {
   "codemirror_mode": {
    "name": "ipython",
    "version": 3
   },
   "file_extension": ".py",
   "mimetype": "text/x-python",
   "name": "python",
   "nbconvert_exporter": "python",
   "pygments_lexer": "ipython3",
   "version": "3.8.13"
  }
 },
 "nbformat": 4,
 "nbformat_minor": 5
}
