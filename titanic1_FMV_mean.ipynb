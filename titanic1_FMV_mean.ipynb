{
 "cells": [
  {
   "cell_type": "markdown",
   "id": "6ac55863",
   "metadata": {},
   "source": [
    "## Import libraries"
   ]
  },
  {
   "cell_type": "code",
   "execution_count": 39,
   "id": "afaff21b",
   "metadata": {},
   "outputs": [],
   "source": [
    "import pandas as pd\n",
    "import numpy as np\n",
    "import matplotlib.pyplot as plt"
   ]
  },
  {
   "cell_type": "markdown",
   "id": "2fe5d925",
   "metadata": {},
   "source": [
    "## import dataset"
   ]
  },
  {
   "cell_type": "code",
   "execution_count": 40,
   "id": "6f13eb70",
   "metadata": {},
   "outputs": [
    {
     "name": "stdout",
     "output_type": "stream",
     "text": [
      "<class 'pandas.core.frame.DataFrame'>\n",
      "RangeIndex: 888 entries, 0 to 887\n",
      "Data columns (total 11 columns):\n",
      " #   Column       Non-Null Count  Dtype  \n",
      "---  ------       --------------  -----  \n",
      " 0   PassengerId  888 non-null    int64  \n",
      " 1   Survived     888 non-null    int64  \n",
      " 2   Pclass       888 non-null    float64\n",
      " 3   Name         888 non-null    object \n",
      " 4   Sex          888 non-null    int64  \n",
      " 5   Age          715 non-null    float64\n",
      " 6   SibSp        888 non-null    int64  \n",
      " 7   Parch        887 non-null    float64\n",
      " 8   Ticket       887 non-null    object \n",
      " 9   Fare         886 non-null    float64\n",
      " 10  Embarked     886 non-null    float64\n",
      "dtypes: float64(5), int64(4), object(2)\n",
      "memory usage: 76.4+ KB\n"
     ]
    }
   ],
   "source": [
    "df_titanic = pd.read_csv('titanic.csv')\n",
    "df_titanic.info()"
   ]
  },
  {
   "cell_type": "code",
   "execution_count": 41,
   "id": "d6cb7943",
   "metadata": {},
   "outputs": [
    {
     "data": {
      "text/html": [
       "<div>\n",
       "<style scoped>\n",
       "    .dataframe tbody tr th:only-of-type {\n",
       "        vertical-align: middle;\n",
       "    }\n",
       "\n",
       "    .dataframe tbody tr th {\n",
       "        vertical-align: top;\n",
       "    }\n",
       "\n",
       "    .dataframe thead th {\n",
       "        text-align: right;\n",
       "    }\n",
       "</style>\n",
       "<table border=\"1\" class=\"dataframe\">\n",
       "  <thead>\n",
       "    <tr style=\"text-align: right;\">\n",
       "      <th></th>\n",
       "      <th>PassengerId</th>\n",
       "      <th>Survived</th>\n",
       "      <th>Pclass</th>\n",
       "      <th>Name</th>\n",
       "      <th>Sex</th>\n",
       "      <th>Age</th>\n",
       "      <th>SibSp</th>\n",
       "      <th>Parch</th>\n",
       "      <th>Ticket</th>\n",
       "      <th>Fare</th>\n",
       "      <th>Embarked</th>\n",
       "    </tr>\n",
       "  </thead>\n",
       "  <tbody>\n",
       "    <tr>\n",
       "      <th>0</th>\n",
       "      <td>1</td>\n",
       "      <td>0</td>\n",
       "      <td>3.0</td>\n",
       "      <td>Braund, Mr. Owen Harris</td>\n",
       "      <td>1</td>\n",
       "      <td>22.0</td>\n",
       "      <td>1</td>\n",
       "      <td>0.0</td>\n",
       "      <td>A/5 21171</td>\n",
       "      <td>7.25</td>\n",
       "      <td>1.0</td>\n",
       "    </tr>\n",
       "    <tr>\n",
       "      <th>1</th>\n",
       "      <td>2</td>\n",
       "      <td>1</td>\n",
       "      <td>1.0</td>\n",
       "      <td>Cumings, Mrs. John Bradley (Florence Briggs Th...</td>\n",
       "      <td>2</td>\n",
       "      <td>38.0</td>\n",
       "      <td>1</td>\n",
       "      <td>0.0</td>\n",
       "      <td>PC 17599</td>\n",
       "      <td>71.28</td>\n",
       "      <td>2.0</td>\n",
       "    </tr>\n",
       "    <tr>\n",
       "      <th>2</th>\n",
       "      <td>3</td>\n",
       "      <td>1</td>\n",
       "      <td>3.0</td>\n",
       "      <td>Heikkinen, Miss. Laina</td>\n",
       "      <td>2</td>\n",
       "      <td>26.0</td>\n",
       "      <td>0</td>\n",
       "      <td>0.0</td>\n",
       "      <td>STON/O2. 3101282</td>\n",
       "      <td>7.92</td>\n",
       "      <td>1.0</td>\n",
       "    </tr>\n",
       "    <tr>\n",
       "      <th>3</th>\n",
       "      <td>4</td>\n",
       "      <td>1</td>\n",
       "      <td>1.0</td>\n",
       "      <td>Futrelle, Mrs. Jacques Heath (Lily May Peel)</td>\n",
       "      <td>2</td>\n",
       "      <td>35.0</td>\n",
       "      <td>1</td>\n",
       "      <td>0.0</td>\n",
       "      <td>113803</td>\n",
       "      <td>53.10</td>\n",
       "      <td>1.0</td>\n",
       "    </tr>\n",
       "    <tr>\n",
       "      <th>4</th>\n",
       "      <td>5</td>\n",
       "      <td>0</td>\n",
       "      <td>3.0</td>\n",
       "      <td>Allen, Mr. William Henry</td>\n",
       "      <td>1</td>\n",
       "      <td>35.0</td>\n",
       "      <td>0</td>\n",
       "      <td>0.0</td>\n",
       "      <td>373450</td>\n",
       "      <td>8.05</td>\n",
       "      <td>1.0</td>\n",
       "    </tr>\n",
       "  </tbody>\n",
       "</table>\n",
       "</div>"
      ],
      "text/plain": [
       "   PassengerId  Survived  Pclass  \\\n",
       "0            1         0     3.0   \n",
       "1            2         1     1.0   \n",
       "2            3         1     3.0   \n",
       "3            4         1     1.0   \n",
       "4            5         0     3.0   \n",
       "\n",
       "                                                Name  Sex   Age  SibSp  Parch  \\\n",
       "0                            Braund, Mr. Owen Harris    1  22.0      1    0.0   \n",
       "1  Cumings, Mrs. John Bradley (Florence Briggs Th...    2  38.0      1    0.0   \n",
       "2                             Heikkinen, Miss. Laina    2  26.0      0    0.0   \n",
       "3       Futrelle, Mrs. Jacques Heath (Lily May Peel)    2  35.0      1    0.0   \n",
       "4                           Allen, Mr. William Henry    1  35.0      0    0.0   \n",
       "\n",
       "             Ticket   Fare  Embarked  \n",
       "0         A/5 21171   7.25       1.0  \n",
       "1          PC 17599  71.28       2.0  \n",
       "2  STON/O2. 3101282   7.92       1.0  \n",
       "3            113803  53.10       1.0  \n",
       "4            373450   8.05       1.0  "
      ]
     },
     "execution_count": 41,
     "metadata": {},
     "output_type": "execute_result"
    }
   ],
   "source": [
    "df_titanic.head()"
   ]
  },
  {
   "cell_type": "markdown",
   "id": "406ca2c4",
   "metadata": {},
   "source": [
    "## Handling missing values with mean"
   ]
  },
  {
   "cell_type": "code",
   "execution_count": 25,
   "id": "c7266bea",
   "metadata": {},
   "outputs": [
    {
     "data": {
      "text/plain": [
       "PassengerId      0\n",
       "Survived         0\n",
       "Pclass           0\n",
       "Name             0\n",
       "Sex              0\n",
       "Age            173\n",
       "SibSp            0\n",
       "Parch            1\n",
       "Ticket           1\n",
       "Fare             2\n",
       "Embarked         2\n",
       "dtype: int64"
      ]
     },
     "execution_count": 25,
     "metadata": {},
     "output_type": "execute_result"
    }
   ],
   "source": [
    "df_titanic.isna().sum()"
   ]
  },
  {
   "cell_type": "markdown",
   "id": "3f11f81e",
   "metadata": {},
   "source": [
    "We can see that age, ticket, fare, cabin and embarked columns have missing values. "
   ]
  },
  {
   "cell_type": "code",
   "execution_count": 26,
   "id": "67a75527",
   "metadata": {},
   "outputs": [
    {
     "data": {
      "image/png": "[encoded data removed]",
      "text/plain": [
       "<Figure size 700x500 with 1 Axes>"
      ]
     },
     "metadata": {},
     "output_type": "display_data"
    }
   ],
   "source": [
    "# Calculate the percentage of missing values for each column\n",
    "missing_percentage = (df_titanic.isnull().sum() / len(df_titanic)) * 100\n",
    "\n",
    "# Create a bar chart\n",
    "plt.figure(figsize=(7, 5))\n",
    "missing_percentage.plot(kind='bar')\n",
    "plt.xlabel('Columns')\n",
    "plt.ylabel('Percentage of Missing Values')\n",
    "plt.title('Missing Values by Column')\n",
    "plt.show()"
   ]
  },
  {
   "cell_type": "markdown",
   "id": "da39a799",
   "metadata": {},
   "source": [
    "### Age column"
   ]
  },
  {
   "cell_type": "code",
   "execution_count": 27,
   "id": "7fa06000",
   "metadata": {},
   "outputs": [
    {
     "data": {
      "text/plain": [
       "36.00699300699301"
      ]
     },
     "execution_count": 27,
     "metadata": {},
     "output_type": "execute_result"
    }
   ],
   "source": [
    "df_titanic['Age'].mean()"
   ]
  },
  {
   "cell_type": "code",
   "execution_count": 28,
   "id": "7996fb7b",
   "metadata": {},
   "outputs": [
    {
     "data": {
      "text/plain": [
       "0"
      ]
     },
     "execution_count": 28,
     "metadata": {},
     "output_type": "execute_result"
    }
   ],
   "source": [
    "df_titanic['Age'] = df_titanic['Age'].fillna(df_titanic['Age'].mean())\n",
    "df_titanic['Age'].isna().sum()"
   ]
  },
  {
   "cell_type": "markdown",
   "id": "dbff119c",
   "metadata": {},
   "source": [
    "### Parch column"
   ]
  },
  {
   "cell_type": "code",
   "execution_count": 29,
   "id": "82cdc5e4",
   "metadata": {},
   "outputs": [
    {
     "data": {
      "text/plain": [
       "1"
      ]
     },
     "execution_count": 29,
     "metadata": {},
     "output_type": "execute_result"
    }
   ],
   "source": [
    "df_titanic['Parch'].isna().sum()"
   ]
  },
  {
   "cell_type": "code",
   "execution_count": 30,
   "id": "d4d903cd",
   "metadata": {},
   "outputs": [
    {
     "data": {
      "text/plain": [
       "0"
      ]
     },
     "execution_count": 30,
     "metadata": {},
     "output_type": "execute_result"
    }
   ],
   "source": [
    "df_titanic['Parch'] = df_titanic['Parch'].fillna(df_titanic['Parch'].mean())\n",
    "df_titanic['Parch'].isna().sum()"
   ]
  },
  {
   "cell_type": "markdown",
   "id": "33985c0e",
   "metadata": {},
   "source": [
    "### Ticket column\n"
   ]
  },
  {
   "cell_type": "markdown",
   "id": "45a9e7b2",
   "metadata": {},
   "source": [
    "we will fill the missing value in ticket column with most frequent value."
   ]
  },
  {
   "cell_type": "code",
   "execution_count": 31,
   "id": "4e35369a",
   "metadata": {},
   "outputs": [
    {
     "data": {
      "text/plain": [
       "1"
      ]
     },
     "execution_count": 31,
     "metadata": {},
     "output_type": "execute_result"
    }
   ],
   "source": [
    "df_titanic['Ticket'].isna().sum()"
   ]
  },
  {
   "cell_type": "code",
   "execution_count": 32,
   "id": "6bff16f5",
   "metadata": {},
   "outputs": [
    {
     "data": {
      "text/plain": [
       "0"
      ]
     },
     "execution_count": 32,
     "metadata": {},
     "output_type": "execute_result"
    }
   ],
   "source": [
    "df_titanic['Ticket'].fillna(df_titanic['Ticket'].mode()[0], inplace = True)\n",
    "df_titanic['Ticket'].isna().sum()"
   ]
  },
  {
   "cell_type": "markdown",
   "id": "b3140860",
   "metadata": {},
   "source": [
    "### Fare Column"
   ]
  },
  {
   "cell_type": "code",
   "execution_count": 33,
   "id": "5c08231b",
   "metadata": {},
   "outputs": [
    {
     "data": {
      "text/plain": [
       "2"
      ]
     },
     "execution_count": 33,
     "metadata": {},
     "output_type": "execute_result"
    }
   ],
   "source": [
    "df_titanic['Fare'].isna().sum()"
   ]
  },
  {
   "cell_type": "code",
   "execution_count": 34,
   "id": "af0586ed",
   "metadata": {},
   "outputs": [],
   "source": [
    "df_titanic['Fare'] = df_titanic['Fare'].fillna(df_titanic['Fare'].mean())"
   ]
  },
  {
   "cell_type": "markdown",
   "id": "5bdaf7a8",
   "metadata": {},
   "source": [
    "### Embarked Column"
   ]
  },
  {
   "cell_type": "code",
   "execution_count": 35,
   "id": "09a2cc4d",
   "metadata": {},
   "outputs": [
    {
     "data": {
      "text/plain": [
       "2"
      ]
     },
     "execution_count": 35,
     "metadata": {},
     "output_type": "execute_result"
    }
   ],
   "source": [
    "df_titanic['Embarked'].isna().sum()"
   ]
  },
  {
   "cell_type": "markdown",
   "id": "41e5b641",
   "metadata": {},
   "source": [
    "we will change the missing values with the most frequent values."
   ]
  },
  {
   "cell_type": "code",
   "execution_count": 36,
   "id": "114c5d3e",
   "metadata": {},
   "outputs": [
    {
     "data": {
      "text/plain": [
       "0"
      ]
     },
     "execution_count": 36,
     "metadata": {},
     "output_type": "execute_result"
    }
   ],
   "source": [
    "df_titanic['Embarked'].fillna(df_titanic['Embarked'].mode()[0], inplace = True)\n",
    "df_titanic['Embarked'].isna().sum()"
   ]
  },
  {
   "cell_type": "markdown",
   "id": "b2efd263",
   "metadata": {},
   "source": [
    "Then, we will drop any columns that unnecessary for classification model."
   ]
  },
  {
   "cell_type": "code",
   "execution_count": 37,
   "id": "a2d32d21",
   "metadata": {},
   "outputs": [
    {
     "data": {
      "text/html": [
       "<div>\n",
       "<style scoped>\n",
       "    .dataframe tbody tr th:only-of-type {\n",
       "        vertical-align: middle;\n",
       "    }\n",
       "\n",
       "    .dataframe tbody tr th {\n",
       "        vertical-align: top;\n",
       "    }\n",
       "\n",
       "    .dataframe thead th {\n",
       "        text-align: right;\n",
       "    }\n",
       "</style>\n",
       "<table border=\"1\" class=\"dataframe\">\n",
       "  <thead>\n",
       "    <tr style=\"text-align: right;\">\n",
       "      <th></th>\n",
       "      <th>Survived</th>\n",
       "      <th>Pclass</th>\n",
       "      <th>Sex</th>\n",
       "      <th>Age</th>\n",
       "      <th>SibSp</th>\n",
       "      <th>Parch</th>\n",
       "      <th>Fare</th>\n",
       "      <th>Embarked</th>\n",
       "    </tr>\n",
       "  </thead>\n",
       "  <tbody>\n",
       "    <tr>\n",
       "      <th>0</th>\n",
       "      <td>0</td>\n",
       "      <td>3.0</td>\n",
       "      <td>1</td>\n",
       "      <td>22.0</td>\n",
       "      <td>1</td>\n",
       "      <td>0.0</td>\n",
       "      <td>7.25</td>\n",
       "      <td>1.0</td>\n",
       "    </tr>\n",
       "    <tr>\n",
       "      <th>1</th>\n",
       "      <td>1</td>\n",
       "      <td>1.0</td>\n",
       "      <td>2</td>\n",
       "      <td>38.0</td>\n",
       "      <td>1</td>\n",
       "      <td>0.0</td>\n",
       "      <td>71.28</td>\n",
       "      <td>2.0</td>\n",
       "    </tr>\n",
       "    <tr>\n",
       "      <th>2</th>\n",
       "      <td>1</td>\n",
       "      <td>3.0</td>\n",
       "      <td>2</td>\n",
       "      <td>26.0</td>\n",
       "      <td>0</td>\n",
       "      <td>0.0</td>\n",
       "      <td>7.92</td>\n",
       "      <td>1.0</td>\n",
       "    </tr>\n",
       "  </tbody>\n",
       "</table>\n",
       "</div>"
      ],
      "text/plain": [
       "   Survived  Pclass  Sex   Age  SibSp  Parch   Fare  Embarked\n",
       "0         0     3.0    1  22.0      1    0.0   7.25       1.0\n",
       "1         1     1.0    2  38.0      1    0.0  71.28       2.0\n",
       "2         1     3.0    2  26.0      0    0.0   7.92       1.0"
      ]
     },
     "execution_count": 37,
     "metadata": {},
     "output_type": "execute_result"
    }
   ],
   "source": [
    "df_titanic = df_titanic.drop(['PassengerId', 'Name', 'Ticket'], axis=1)\n",
    "df_titanic.head(3)"
   ]
  },
  {
   "cell_type": "code",
   "execution_count": 38,
   "id": "80f763ff",
   "metadata": {},
   "outputs": [],
   "source": [
    "# saving the dataframe\n",
    "df_titanic.to_csv('titanic1_FMV_mean.csv', index=False)"
   ]
  }
 ],
 "metadata": {
  "kernelspec": {
   "display_name": "Python 3 (ipykernel)",
   "language": "python",
   "name": "python3"
  },
  "language_info": {
   "codemirror_mode": {
    "name": "ipython",
    "version": 3
   },
   "file_extension": ".py",
   "mimetype": "text/x-python",
   "name": "python",
   "nbconvert_exporter": "python",
   "pygments_lexer": "ipython3",
   "version": "3.8.13"
  }
 },
 "nbformat": 4,
 "nbformat_minor": 5
}
