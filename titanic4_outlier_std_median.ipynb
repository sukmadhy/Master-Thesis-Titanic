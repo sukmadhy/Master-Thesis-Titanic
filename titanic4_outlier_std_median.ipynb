{
 "cells": [
  {
   "cell_type": "markdown",
   "id": "6ac55863",
   "metadata": {},
   "source": [
    "## Import libraries"
   ]
  },
  {
   "cell_type": "code",
   "execution_count": 513,
   "id": "afaff21b",
   "metadata": {},
   "outputs": [],
   "source": [
    "import pandas as pd\n",
    "import numpy as np\n",
    "import seaborn as sns\n",
    "import matplotlib.pyplot as plt\n",
    "import warnings\n",
    "warnings.filterwarnings(\"ignore\")"
   ]
  },
  {
   "cell_type": "markdown",
   "id": "2fe5d925",
   "metadata": {},
   "source": [
    "## import dataset"
   ]
  },
  {
   "cell_type": "code",
   "execution_count": 514,
   "id": "6f13eb70",
   "metadata": {},
   "outputs": [
    {
     "name": "stdout",
     "output_type": "stream",
     "text": [
      "<class 'pandas.core.frame.DataFrame'>\n",
      "RangeIndex: 888 entries, 0 to 887\n",
      "Data columns (total 11 columns):\n",
      " #   Column       Non-Null Count  Dtype  \n",
      "---  ------       --------------  -----  \n",
      " 0   PassengerId  888 non-null    int64  \n",
      " 1   Survived     888 non-null    int64  \n",
      " 2   Pclass       888 non-null    float64\n",
      " 3   Name         888 non-null    object \n",
      " 4   Sex          888 non-null    int64  \n",
      " 5   Age          715 non-null    float64\n",
      " 6   SibSp        888 non-null    int64  \n",
      " 7   Parch        887 non-null    float64\n",
      " 8   Ticket       887 non-null    object \n",
      " 9   Fare         886 non-null    float64\n",
      " 10  Embarked     886 non-null    float64\n",
      "dtypes: float64(5), int64(4), object(2)\n",
      "memory usage: 76.4+ KB\n"
     ]
    }
   ],
   "source": [
    "df_titanic = pd.read_csv('titanic.csv')\n",
    "df_titanic.info()"
   ]
  },
  {
   "cell_type": "markdown",
   "id": "b271e7fb",
   "metadata": {},
   "source": [
    "# Outliers"
   ]
  },
  {
   "cell_type": "code",
   "execution_count": 515,
   "id": "24bfbf93",
   "metadata": {},
   "outputs": [
    {
     "data": {
      "text/html": [
       "<div>\n",
       "<style scoped>\n",
       "    .dataframe tbody tr th:only-of-type {\n",
       "        vertical-align: middle;\n",
       "    }\n",
       "\n",
       "    .dataframe tbody tr th {\n",
       "        vertical-align: top;\n",
       "    }\n",
       "\n",
       "    .dataframe thead th {\n",
       "        text-align: right;\n",
       "    }\n",
       "</style>\n",
       "<table border=\"1\" class=\"dataframe\">\n",
       "  <thead>\n",
       "    <tr style=\"text-align: right;\">\n",
       "      <th></th>\n",
       "      <th>PassengerId</th>\n",
       "      <th>Survived</th>\n",
       "      <th>Pclass</th>\n",
       "      <th>Sex</th>\n",
       "      <th>Age</th>\n",
       "      <th>SibSp</th>\n",
       "      <th>Parch</th>\n",
       "      <th>Fare</th>\n",
       "      <th>Embarked</th>\n",
       "    </tr>\n",
       "  </thead>\n",
       "  <tbody>\n",
       "    <tr>\n",
       "      <th>count</th>\n",
       "      <td>888.000000</td>\n",
       "      <td>888.000000</td>\n",
       "      <td>888.00000</td>\n",
       "      <td>888.000000</td>\n",
       "      <td>715.000000</td>\n",
       "      <td>888.000000</td>\n",
       "      <td>887.000000</td>\n",
       "      <td>886.000000</td>\n",
       "      <td>886.000000</td>\n",
       "    </tr>\n",
       "    <tr>\n",
       "      <th>mean</th>\n",
       "      <td>447.238739</td>\n",
       "      <td>0.382883</td>\n",
       "      <td>2.30518</td>\n",
       "      <td>1.351351</td>\n",
       "      <td>36.006993</td>\n",
       "      <td>0.602477</td>\n",
       "      <td>0.370913</td>\n",
       "      <td>32.024786</td>\n",
       "      <td>1.363431</td>\n",
       "    </tr>\n",
       "    <tr>\n",
       "      <th>std</th>\n",
       "      <td>257.528189</td>\n",
       "      <td>0.486364</td>\n",
       "      <td>0.84697</td>\n",
       "      <td>0.477662</td>\n",
       "      <td>165.601302</td>\n",
       "      <td>2.579661</td>\n",
       "      <td>0.769751</td>\n",
       "      <td>49.947084</td>\n",
       "      <td>0.636884</td>\n",
       "    </tr>\n",
       "    <tr>\n",
       "      <th>min</th>\n",
       "      <td>1.000000</td>\n",
       "      <td>0.000000</td>\n",
       "      <td>-2.00000</td>\n",
       "      <td>1.000000</td>\n",
       "      <td>-12.000000</td>\n",
       "      <td>0.000000</td>\n",
       "      <td>0.000000</td>\n",
       "      <td>-90.000000</td>\n",
       "      <td>1.000000</td>\n",
       "    </tr>\n",
       "    <tr>\n",
       "      <th>25%</th>\n",
       "      <td>224.750000</td>\n",
       "      <td>0.000000</td>\n",
       "      <td>2.00000</td>\n",
       "      <td>1.000000</td>\n",
       "      <td>20.000000</td>\n",
       "      <td>0.000000</td>\n",
       "      <td>0.000000</td>\n",
       "      <td>7.900000</td>\n",
       "      <td>1.000000</td>\n",
       "    </tr>\n",
       "    <tr>\n",
       "      <th>50%</th>\n",
       "      <td>446.500000</td>\n",
       "      <td>0.000000</td>\n",
       "      <td>3.00000</td>\n",
       "      <td>1.000000</td>\n",
       "      <td>28.000000</td>\n",
       "      <td>0.000000</td>\n",
       "      <td>0.000000</td>\n",
       "      <td>14.450000</td>\n",
       "      <td>1.000000</td>\n",
       "    </tr>\n",
       "    <tr>\n",
       "      <th>75%</th>\n",
       "      <td>669.250000</td>\n",
       "      <td>1.000000</td>\n",
       "      <td>3.00000</td>\n",
       "      <td>2.000000</td>\n",
       "      <td>38.000000</td>\n",
       "      <td>1.000000</td>\n",
       "      <td>0.000000</td>\n",
       "      <td>30.700000</td>\n",
       "      <td>2.000000</td>\n",
       "    </tr>\n",
       "    <tr>\n",
       "      <th>max</th>\n",
       "      <td>1000.000000</td>\n",
       "      <td>1.000000</td>\n",
       "      <td>3.00000</td>\n",
       "      <td>2.000000</td>\n",
       "      <td>4435.000000</td>\n",
       "      <td>70.000000</td>\n",
       "      <td>5.000000</td>\n",
       "      <td>512.330000</td>\n",
       "      <td>3.000000</td>\n",
       "    </tr>\n",
       "  </tbody>\n",
       "</table>\n",
       "</div>"
      ],
      "text/plain": [
       "       PassengerId    Survived     Pclass         Sex          Age  \\\n",
       "count   888.000000  888.000000  888.00000  888.000000   715.000000   \n",
       "mean    447.238739    0.382883    2.30518    1.351351    36.006993   \n",
       "std     257.528189    0.486364    0.84697    0.477662   165.601302   \n",
       "min       1.000000    0.000000   -2.00000    1.000000   -12.000000   \n",
       "25%     224.750000    0.000000    2.00000    1.000000    20.000000   \n",
       "50%     446.500000    0.000000    3.00000    1.000000    28.000000   \n",
       "75%     669.250000    1.000000    3.00000    2.000000    38.000000   \n",
       "max    1000.000000    1.000000    3.00000    2.000000  4435.000000   \n",
       "\n",
       "            SibSp       Parch        Fare    Embarked  \n",
       "count  888.000000  887.000000  886.000000  886.000000  \n",
       "mean     0.602477    0.370913   32.024786    1.363431  \n",
       "std      2.579661    0.769751   49.947084    0.636884  \n",
       "min      0.000000    0.000000  -90.000000    1.000000  \n",
       "25%      0.000000    0.000000    7.900000    1.000000  \n",
       "50%      0.000000    0.000000   14.450000    1.000000  \n",
       "75%      1.000000    0.000000   30.700000    2.000000  \n",
       "max     70.000000    5.000000  512.330000    3.000000  "
      ]
     },
     "execution_count": 515,
     "metadata": {},
     "output_type": "execute_result"
    }
   ],
   "source": [
    "df_titanic.describe()"
   ]
  },
  {
   "cell_type": "markdown",
   "id": "f7ad5a1e",
   "metadata": {},
   "source": [
    "We will handle the outlier of those six columns above."
   ]
  },
  {
   "cell_type": "markdown",
   "id": "d6fabcfa",
   "metadata": {},
   "source": [
    "### Survived"
   ]
  },
  {
   "cell_type": "code",
   "execution_count": 517,
   "id": "2d8e679d",
   "metadata": {},
   "outputs": [
    {
     "data": {
      "image/png": "[encoded data removed]",
      "text/plain": [
       "<Figure size 500x200 with 1 Axes>"
      ]
     },
     "metadata": {},
     "output_type": "display_data"
    }
   ],
   "source": [
    "df_titanic.boxplot(column=['Survived'],fontsize=10,rot=0,grid=False,figsize=(5,2),vert=False)\n",
    "plt.show()"
   ]
  },
  {
   "cell_type": "code",
   "execution_count": 518,
   "id": "b9189021",
   "metadata": {
    "scrolled": true
   },
   "outputs": [
    {
     "name": "stdout",
     "output_type": "stream",
     "text": [
      "upper bound: 1.8419749614629053\n",
      "lower bound: -1.0762091956971398\n"
     ]
    }
   ],
   "source": [
    "UB = df_titanic['Survived'].mean() + 3 * df_titanic['Survived'].std() \n",
    "LB = df_titanic['Survived'].mean() - 3 * df_titanic['Survived'].std()\n",
    "print(\"upper bound:\", UB)\n",
    "print(\"lower bound:\", LB)"
   ]
  },
  {
   "cell_type": "code",
   "execution_count": 519,
   "id": "adb83409",
   "metadata": {},
   "outputs": [
    {
     "data": {
      "text/html": [
       "<div>\n",
       "<style scoped>\n",
       "    .dataframe tbody tr th:only-of-type {\n",
       "        vertical-align: middle;\n",
       "    }\n",
       "\n",
       "    .dataframe tbody tr th {\n",
       "        vertical-align: top;\n",
       "    }\n",
       "\n",
       "    .dataframe thead th {\n",
       "        text-align: right;\n",
       "    }\n",
       "</style>\n",
       "<table border=\"1\" class=\"dataframe\">\n",
       "  <thead>\n",
       "    <tr style=\"text-align: right;\">\n",
       "      <th></th>\n",
       "      <th>PassengerId</th>\n",
       "      <th>Survived</th>\n",
       "      <th>Pclass</th>\n",
       "      <th>Name</th>\n",
       "      <th>Sex</th>\n",
       "      <th>Age</th>\n",
       "      <th>SibSp</th>\n",
       "      <th>Parch</th>\n",
       "      <th>Ticket</th>\n",
       "      <th>Fare</th>\n",
       "      <th>Embarked</th>\n",
       "    </tr>\n",
       "  </thead>\n",
       "  <tbody>\n",
       "  </tbody>\n",
       "</table>\n",
       "</div>"
      ],
      "text/plain": [
       "Empty DataFrame\n",
       "Columns: [PassengerId, Survived, Pclass, Name, Sex, Age, SibSp, Parch, Ticket, Fare, Embarked]\n",
       "Index: []"
      ]
     },
     "execution_count": 519,
     "metadata": {},
     "output_type": "execute_result"
    }
   ],
   "source": [
    "df_titanic[(df_titanic['Survived'] < LB) | (df_titanic['Survived'] > UB)]"
   ]
  },
  {
   "cell_type": "markdown",
   "id": "b9da1309",
   "metadata": {},
   "source": [
    "### Pclass"
   ]
  },
  {
   "cell_type": "code",
   "execution_count": 524,
   "id": "e9d9d7a7",
   "metadata": {},
   "outputs": [
    {
     "data": {
      "image/png": "[encoded data removed]",
      "text/plain": [
       "<Figure size 500x200 with 1 Axes>"
      ]
     },
     "metadata": {},
     "output_type": "display_data"
    }
   ],
   "source": [
    "df_titanic.boxplot(column=['Pclass'],fontsize=10,rot=0,grid=False,figsize=(5,2),vert=False)\n",
    "plt.show()"
   ]
  },
  {
   "cell_type": "code",
   "execution_count": 525,
   "id": "5e29a0fc",
   "metadata": {},
   "outputs": [
    {
     "name": "stdout",
     "output_type": "stream",
     "text": [
      "upper bound: 4.846089111404655\n",
      "lower bound: -0.23572875104429514\n"
     ]
    }
   ],
   "source": [
    "UB = df_titanic['Pclass'].mean() + 3 * df_titanic['Pclass'].std() \n",
    "LB = df_titanic['Pclass'].mean() - 3 * df_titanic['Pclass'].std()\n",
    "print(\"upper bound:\", UB)\n",
    "print(\"lower bound:\", LB)"
   ]
  },
  {
   "cell_type": "code",
   "execution_count": 526,
   "id": "ca888f3b",
   "metadata": {},
   "outputs": [
    {
     "data": {
      "image/png": "[encoded data removed]",
      "text/plain": [
       "<Figure size 500x200 with 1 Axes>"
      ]
     },
     "metadata": {},
     "output_type": "display_data"
    }
   ],
   "source": [
    "df_titanic['Pclass'][(df_titanic['Pclass'] < LB) | (df_titanic['Pclass'] > UB)] = np.median(df_titanic['Pclass'])\n",
    "\n",
    "df_titanic.boxplot(column=['Pclass'],fontsize=10,rot=0,grid=False,figsize=(5,2),vert=False)\n",
    "plt.show()"
   ]
  },
  {
   "cell_type": "markdown",
   "id": "1e1866cb",
   "metadata": {},
   "source": [
    "### Age"
   ]
  },
  {
   "cell_type": "code",
   "execution_count": 528,
   "id": "d901dbd3",
   "metadata": {},
   "outputs": [
    {
     "data": {
      "image/png": "[encoded data removed]",
      "text/plain": [
       "<Figure size 500x200 with 1 Axes>"
      ]
     },
     "metadata": {},
     "output_type": "display_data"
    }
   ],
   "source": [
    "df_titanic.boxplot(column=['Age'],fontsize=10,rot=0,grid=False,figsize=(5,2),vert=False)\n",
    "plt.show()"
   ]
  },
  {
   "cell_type": "code",
   "execution_count": 529,
   "id": "355bb82d",
   "metadata": {},
   "outputs": [
    {
     "name": "stdout",
     "output_type": "stream",
     "text": [
      "upper bound: 532.8108994006564\n",
      "lower bound: -460.7969133866704\n"
     ]
    }
   ],
   "source": [
    "UB = df_titanic['Age'].mean() + 3 * df_titanic['Age'].std() \n",
    "LB = df_titanic['Age'].mean() - 3 * df_titanic['Age'].std()\n",
    "print(\"upper bound:\", UB)\n",
    "print(\"lower bound:\", LB)"
   ]
  },
  {
   "cell_type": "code",
   "execution_count": 530,
   "id": "827d5ecb",
   "metadata": {},
   "outputs": [],
   "source": [
    "df_titanic['Age'][(df_titanic['Age'] < LB) | (df_titanic['Age'] > UB)] = np.median(df_titanic['Age'])"
   ]
  },
  {
   "cell_type": "code",
   "execution_count": 531,
   "id": "79cb39a0",
   "metadata": {},
   "outputs": [
    {
     "data": {
      "image/png": "[encoded data removed]",
      "text/plain": [
       "<Figure size 500x200 with 1 Axes>"
      ]
     },
     "metadata": {},
     "output_type": "display_data"
    }
   ],
   "source": [
    "df_titanic.Age = df_titanic['Age'].abs()\n",
    "df_titanic.boxplot(column=['Age'],fontsize=10,rot=0,grid=False,figsize=(5,2),vert=False)\n",
    "plt.show()"
   ]
  },
  {
   "cell_type": "markdown",
   "id": "1236b7a5",
   "metadata": {},
   "source": [
    "### SibSp"
   ]
  },
  {
   "cell_type": "code",
   "execution_count": 533,
   "id": "99e5a891",
   "metadata": {},
   "outputs": [
    {
     "data": {
      "image/png": "[encoded data removed]",
      "text/plain": [
       "<Figure size 500x200 with 1 Axes>"
      ]
     },
     "metadata": {},
     "output_type": "display_data"
    }
   ],
   "source": [
    "df_titanic.boxplot(column=['SibSp'],fontsize=10,rot=0,grid=False,figsize=(5,2),vert=False)\n",
    "plt.show()"
   ]
  },
  {
   "cell_type": "code",
   "execution_count": 534,
   "id": "b169a97d",
   "metadata": {},
   "outputs": [
    {
     "name": "stdout",
     "output_type": "stream",
     "text": [
      "upper bound: 8.341459968440342\n",
      "lower bound: -7.136505013485387\n"
     ]
    }
   ],
   "source": [
    "UB = df_titanic['SibSp'].mean() + 3 * df_titanic['SibSp'].std() \n",
    "LB = df_titanic['SibSp'].mean() - 3 * df_titanic['SibSp'].std()\n",
    "print(\"upper bound:\", UB)\n",
    "print(\"lower bound:\", LB)"
   ]
  },
  {
   "cell_type": "code",
   "execution_count": 535,
   "id": "79b47de5",
   "metadata": {
    "scrolled": false
   },
   "outputs": [],
   "source": [
    "df_titanic['SibSp'][(df_titanic['SibSp'] < LB) | (df_titanic['SibSp'] > UB)] = np.median(df_titanic['SibSp'])"
   ]
  },
  {
   "cell_type": "code",
   "execution_count": 536,
   "id": "3a02a103",
   "metadata": {},
   "outputs": [
    {
     "data": {
      "image/png": "[encoded data removed]",
      "text/plain": [
       "<Figure size 500x200 with 1 Axes>"
      ]
     },
     "metadata": {},
     "output_type": "display_data"
    }
   ],
   "source": [
    "df_titanic.boxplot(column=['SibSp'],fontsize=10,rot=0,grid=False,figsize=(5,2),vert=False)\n",
    "plt.show()"
   ]
  },
  {
   "cell_type": "markdown",
   "id": "0f83356c",
   "metadata": {},
   "source": [
    "### Parch"
   ]
  },
  {
   "cell_type": "code",
   "execution_count": 539,
   "id": "533224c2",
   "metadata": {},
   "outputs": [
    {
     "data": {
      "image/png": "[encoded data removed]",
      "text/plain": [
       "<Figure size 500x200 with 1 Axes>"
      ]
     },
     "metadata": {},
     "output_type": "display_data"
    }
   ],
   "source": [
    "df_titanic.boxplot(column=['Parch'],fontsize=10,grid=False,figsize=(5,2), vert=False)\n",
    "plt.show()"
   ]
  },
  {
   "cell_type": "code",
   "execution_count": 542,
   "id": "a8000707",
   "metadata": {},
   "outputs": [
    {
     "name": "stdout",
     "output_type": "stream",
     "text": [
      "upper bound: 2.680165862691097\n",
      "lower bound: -1.9383394816313448\n"
     ]
    }
   ],
   "source": [
    "UB = df_titanic['Parch'].mean() + 3 * df_titanic['Parch'].std() \n",
    "LB = df_titanic['Parch'].mean() - 3 * df_titanic['Parch'].std()\n",
    "print(\"upper bound:\", UB)\n",
    "print(\"lower bound:\", LB)"
   ]
  },
  {
   "cell_type": "code",
   "execution_count": 543,
   "id": "191bb5ec",
   "metadata": {},
   "outputs": [],
   "source": [
    "df_titanic['Parch'][(df_titanic['Parch'] < LB) | (df_titanic['Parch'] > UB)] = np.median(df_titanic['Parch'])"
   ]
  },
  {
   "cell_type": "code",
   "execution_count": 544,
   "id": "07f5cca8",
   "metadata": {},
   "outputs": [
    {
     "data": {
      "image/png": "[encoded data removed]",
      "text/plain": [
       "<Figure size 500x200 with 1 Axes>"
      ]
     },
     "metadata": {},
     "output_type": "display_data"
    }
   ],
   "source": [
    "df_titanic.boxplot(column=['Parch'],fontsize=10,grid=False,figsize=(5,2), vert=False)\n",
    "plt.show()"
   ]
  },
  {
   "cell_type": "markdown",
   "id": "f75faa4e",
   "metadata": {},
   "source": [
    "### Fare"
   ]
  },
  {
   "cell_type": "code",
   "execution_count": 546,
   "id": "d194348d",
   "metadata": {},
   "outputs": [],
   "source": [
    "#df_titanic['Fare'] = np.sqrt(df_titanic['Fare'])"
   ]
  },
  {
   "cell_type": "code",
   "execution_count": 547,
   "id": "dd46dcd6",
   "metadata": {},
   "outputs": [],
   "source": [
    "#sns.distplot(df_titanic.Fare)\n",
    "#plt.show()"
   ]
  },
  {
   "cell_type": "code",
   "execution_count": 548,
   "id": "fcc2d12a",
   "metadata": {
    "scrolled": false
   },
   "outputs": [
    {
     "data": {
      "image/png": "[encoded data removed]",
      "text/plain": [
       "<Figure size 500x200 with 1 Axes>"
      ]
     },
     "metadata": {},
     "output_type": "display_data"
    }
   ],
   "source": [
    "df_titanic.boxplot(column=['Fare'],fontsize=10,grid=False,figsize=(5,2), vert=False)\n",
    "plt.show()"
   ]
  },
  {
   "cell_type": "code",
   "execution_count": 550,
   "id": "c1191704",
   "metadata": {},
   "outputs": [
    {
     "data": {
      "image/png": "[encoded data removed]",
      "text/plain": [
       "<Figure size 640x480 with 1 Axes>"
      ]
     },
     "metadata": {},
     "output_type": "display_data"
    }
   ],
   "source": [
    "sns.scatterplot(data=df_titanic['Fare'])\n",
    "plt.show()"
   ]
  },
  {
   "cell_type": "code",
   "execution_count": 549,
   "id": "48274ca1",
   "metadata": {},
   "outputs": [
    {
     "name": "stdout",
     "output_type": "stream",
     "text": [
      "upper bound: 181.86603716680986\n",
      "lower bound: -117.81646606071514\n"
     ]
    }
   ],
   "source": [
    "UB = df_titanic['Fare'].mean() + 3 * df_titanic['Fare'].std() \n",
    "LB = df_titanic['Fare'].mean() - 3 * df_titanic['Fare'].std()\n",
    "print(\"upper bound:\", UB)\n",
    "print(\"lower bound:\", LB)"
   ]
  },
  {
   "cell_type": "code",
   "execution_count": 551,
   "id": "87cfd21d",
   "metadata": {},
   "outputs": [],
   "source": [
    "df_titanic['Fare'][(df_titanic['Fare'] < LB) | (df_titanic['Fare'] > UB)] = np.median(df_titanic['Fare'])"
   ]
  },
  {
   "cell_type": "code",
   "execution_count": 552,
   "id": "0b4103c9",
   "metadata": {},
   "outputs": [
    {
     "data": {
      "image/png": "[encoded data removed]",
      "text/plain": [
       "<Figure size 500x200 with 1 Axes>"
      ]
     },
     "metadata": {},
     "output_type": "display_data"
    }
   ],
   "source": [
    "df_titanic.Fare = df_titanic['Fare'].abs()\n",
    "df_titanic.boxplot(column=['Fare'],fontsize=10,rot=0,grid=False,figsize=(5,2),vert=False)\n",
    "plt.show()"
   ]
  },
  {
   "cell_type": "code",
   "execution_count": 553,
   "id": "ccdadcd4",
   "metadata": {},
   "outputs": [
    {
     "data": {
      "text/html": [
       "<div>\n",
       "<style scoped>\n",
       "    .dataframe tbody tr th:only-of-type {\n",
       "        vertical-align: middle;\n",
       "    }\n",
       "\n",
       "    .dataframe tbody tr th {\n",
       "        vertical-align: top;\n",
       "    }\n",
       "\n",
       "    .dataframe thead th {\n",
       "        text-align: right;\n",
       "    }\n",
       "</style>\n",
       "<table border=\"1\" class=\"dataframe\">\n",
       "  <thead>\n",
       "    <tr style=\"text-align: right;\">\n",
       "      <th></th>\n",
       "      <th>PassengerId</th>\n",
       "      <th>Survived</th>\n",
       "      <th>Pclass</th>\n",
       "      <th>Sex</th>\n",
       "      <th>Age</th>\n",
       "      <th>SibSp</th>\n",
       "      <th>Parch</th>\n",
       "      <th>Fare</th>\n",
       "      <th>Embarked</th>\n",
       "    </tr>\n",
       "  </thead>\n",
       "  <tbody>\n",
       "    <tr>\n",
       "      <th>count</th>\n",
       "      <td>888.000000</td>\n",
       "      <td>888.000000</td>\n",
       "      <td>888.000000</td>\n",
       "      <td>888.000000</td>\n",
       "      <td>714.000000</td>\n",
       "      <td>888.000000</td>\n",
       "      <td>874.000000</td>\n",
       "      <td>866.000000</td>\n",
       "      <td>886.000000</td>\n",
       "    </tr>\n",
       "    <tr>\n",
       "      <th>mean</th>\n",
       "      <td>447.238739</td>\n",
       "      <td>0.382883</td>\n",
       "      <td>2.310811</td>\n",
       "      <td>1.351351</td>\n",
       "      <td>29.887955</td>\n",
       "      <td>0.523649</td>\n",
       "      <td>0.318078</td>\n",
       "      <td>26.521697</td>\n",
       "      <td>1.363431</td>\n",
       "    </tr>\n",
       "    <tr>\n",
       "      <th>std</th>\n",
       "      <td>257.528189</td>\n",
       "      <td>0.486364</td>\n",
       "      <td>0.834850</td>\n",
       "      <td>0.477662</td>\n",
       "      <td>16.771421</td>\n",
       "      <td>1.104211</td>\n",
       "      <td>0.632794</td>\n",
       "      <td>29.407047</td>\n",
       "      <td>0.636884</td>\n",
       "    </tr>\n",
       "    <tr>\n",
       "      <th>min</th>\n",
       "      <td>1.000000</td>\n",
       "      <td>0.000000</td>\n",
       "      <td>1.000000</td>\n",
       "      <td>1.000000</td>\n",
       "      <td>0.000000</td>\n",
       "      <td>0.000000</td>\n",
       "      <td>0.000000</td>\n",
       "      <td>0.000000</td>\n",
       "      <td>1.000000</td>\n",
       "    </tr>\n",
       "    <tr>\n",
       "      <th>25%</th>\n",
       "      <td>224.750000</td>\n",
       "      <td>0.000000</td>\n",
       "      <td>2.000000</td>\n",
       "      <td>1.000000</td>\n",
       "      <td>20.000000</td>\n",
       "      <td>0.000000</td>\n",
       "      <td>0.000000</td>\n",
       "      <td>7.900000</td>\n",
       "      <td>1.000000</td>\n",
       "    </tr>\n",
       "    <tr>\n",
       "      <th>50%</th>\n",
       "      <td>446.500000</td>\n",
       "      <td>0.000000</td>\n",
       "      <td>3.000000</td>\n",
       "      <td>1.000000</td>\n",
       "      <td>28.000000</td>\n",
       "      <td>0.000000</td>\n",
       "      <td>0.000000</td>\n",
       "      <td>13.825000</td>\n",
       "      <td>1.000000</td>\n",
       "    </tr>\n",
       "    <tr>\n",
       "      <th>75%</th>\n",
       "      <td>669.250000</td>\n",
       "      <td>1.000000</td>\n",
       "      <td>3.000000</td>\n",
       "      <td>2.000000</td>\n",
       "      <td>38.000000</td>\n",
       "      <td>1.000000</td>\n",
       "      <td>0.000000</td>\n",
       "      <td>29.925000</td>\n",
       "      <td>2.000000</td>\n",
       "    </tr>\n",
       "    <tr>\n",
       "      <th>max</th>\n",
       "      <td>1000.000000</td>\n",
       "      <td>1.000000</td>\n",
       "      <td>3.000000</td>\n",
       "      <td>2.000000</td>\n",
       "      <td>250.000000</td>\n",
       "      <td>8.000000</td>\n",
       "      <td>2.000000</td>\n",
       "      <td>164.870000</td>\n",
       "      <td>3.000000</td>\n",
       "    </tr>\n",
       "  </tbody>\n",
       "</table>\n",
       "</div>"
      ],
      "text/plain": [
       "       PassengerId    Survived      Pclass         Sex         Age  \\\n",
       "count   888.000000  888.000000  888.000000  888.000000  714.000000   \n",
       "mean    447.238739    0.382883    2.310811    1.351351   29.887955   \n",
       "std     257.528189    0.486364    0.834850    0.477662   16.771421   \n",
       "min       1.000000    0.000000    1.000000    1.000000    0.000000   \n",
       "25%     224.750000    0.000000    2.000000    1.000000   20.000000   \n",
       "50%     446.500000    0.000000    3.000000    1.000000   28.000000   \n",
       "75%     669.250000    1.000000    3.000000    2.000000   38.000000   \n",
       "max    1000.000000    1.000000    3.000000    2.000000  250.000000   \n",
       "\n",
       "            SibSp       Parch        Fare    Embarked  \n",
       "count  888.000000  874.000000  866.000000  886.000000  \n",
       "mean     0.523649    0.318078   26.521697    1.363431  \n",
       "std      1.104211    0.632794   29.407047    0.636884  \n",
       "min      0.000000    0.000000    0.000000    1.000000  \n",
       "25%      0.000000    0.000000    7.900000    1.000000  \n",
       "50%      0.000000    0.000000   13.825000    1.000000  \n",
       "75%      1.000000    0.000000   29.925000    2.000000  \n",
       "max      8.000000    2.000000  164.870000    3.000000  "
      ]
     },
     "execution_count": 553,
     "metadata": {},
     "output_type": "execute_result"
    }
   ],
   "source": [
    "df_titanic.describe()"
   ]
  },
  {
   "cell_type": "code",
   "execution_count": 554,
   "id": "a2d32d21",
   "metadata": {},
   "outputs": [
    {
     "data": {
      "text/html": [
       "<div>\n",
       "<style scoped>\n",
       "    .dataframe tbody tr th:only-of-type {\n",
       "        vertical-align: middle;\n",
       "    }\n",
       "\n",
       "    .dataframe tbody tr th {\n",
       "        vertical-align: top;\n",
       "    }\n",
       "\n",
       "    .dataframe thead th {\n",
       "        text-align: right;\n",
       "    }\n",
       "</style>\n",
       "<table border=\"1\" class=\"dataframe\">\n",
       "  <thead>\n",
       "    <tr style=\"text-align: right;\">\n",
       "      <th></th>\n",
       "      <th>Survived</th>\n",
       "      <th>Pclass</th>\n",
       "      <th>Sex</th>\n",
       "      <th>Age</th>\n",
       "      <th>SibSp</th>\n",
       "      <th>Parch</th>\n",
       "      <th>Fare</th>\n",
       "      <th>Embarked</th>\n",
       "    </tr>\n",
       "  </thead>\n",
       "  <tbody>\n",
       "    <tr>\n",
       "      <th>0</th>\n",
       "      <td>0</td>\n",
       "      <td>3.0</td>\n",
       "      <td>1</td>\n",
       "      <td>22.0</td>\n",
       "      <td>1</td>\n",
       "      <td>0.0</td>\n",
       "      <td>7.25</td>\n",
       "      <td>1.0</td>\n",
       "    </tr>\n",
       "    <tr>\n",
       "      <th>1</th>\n",
       "      <td>1</td>\n",
       "      <td>1.0</td>\n",
       "      <td>2</td>\n",
       "      <td>38.0</td>\n",
       "      <td>1</td>\n",
       "      <td>0.0</td>\n",
       "      <td>71.28</td>\n",
       "      <td>2.0</td>\n",
       "    </tr>\n",
       "    <tr>\n",
       "      <th>2</th>\n",
       "      <td>1</td>\n",
       "      <td>3.0</td>\n",
       "      <td>2</td>\n",
       "      <td>26.0</td>\n",
       "      <td>0</td>\n",
       "      <td>0.0</td>\n",
       "      <td>7.92</td>\n",
       "      <td>1.0</td>\n",
       "    </tr>\n",
       "  </tbody>\n",
       "</table>\n",
       "</div>"
      ],
      "text/plain": [
       "   Survived  Pclass  Sex   Age  SibSp  Parch   Fare  Embarked\n",
       "0         0     3.0    1  22.0      1    0.0   7.25       1.0\n",
       "1         1     1.0    2  38.0      1    0.0  71.28       2.0\n",
       "2         1     3.0    2  26.0      0    0.0   7.92       1.0"
      ]
     },
     "execution_count": 554,
     "metadata": {},
     "output_type": "execute_result"
    }
   ],
   "source": [
    "df_titanic = df_titanic.drop(['PassengerId', 'Name', 'Ticket'], axis=1)\n",
    "df_titanic.head(3)"
   ]
  },
  {
   "cell_type": "code",
   "execution_count": 555,
   "id": "80f763ff",
   "metadata": {},
   "outputs": [],
   "source": [
    "# saving the dataframe\n",
    "df_titanic.to_csv('titanic4_stdmean_median.csv', index=False)"
   ]
  },
  {
   "cell_type": "code",
   "execution_count": null,
   "id": "afce1510",
   "metadata": {},
   "outputs": [],
   "source": []
  }
 ],
 "metadata": {
  "kernelspec": {
   "display_name": "Python 3 (ipykernel)",
   "language": "python",
   "name": "python3"
  },
  "language_info": {
   "codemirror_mode": {
    "name": "ipython",
    "version": 3
   },
   "file_extension": ".py",
   "mimetype": "text/x-python",
   "name": "python",
   "nbconvert_exporter": "python",
   "pygments_lexer": "ipython3",
   "version": "3.8.13"
  }
 },
 "nbformat": 4,
 "nbformat_minor": 5
}
