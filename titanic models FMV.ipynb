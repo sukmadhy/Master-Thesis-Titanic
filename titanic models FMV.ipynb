{
 "cells": [
  {
   "cell_type": "markdown",
   "id": "c71d7d33",
   "metadata": {},
   "source": [
    "## Decision Tree Classifier"
   ]
  },
  {
   "cell_type": "code",
   "execution_count": 106,
   "id": "302807af",
   "metadata": {
    "scrolled": false
   },
   "outputs": [
    {
     "name": "stdout",
     "output_type": "stream",
     "text": [
      "Accuracy for titanic1_FMV_mean.csv: 0.7453183520599251\n",
      "Accuracy: 0.75\n",
      "\n",
      "Accuracy for titanic2_FMV_median.csv: 0.7602996254681648\n",
      "Accuracy: 0.76\n",
      "\n",
      "Accuracy for titanic3_FMV_mode.csv: 0.7827715355805244\n",
      "Accuracy: 0.78\n",
      "\n",
      "Accuracy for titanic4_FMV_randomMeanStd.csv: 0.6891385767790262\n",
      "Accuracy: 0.69\n",
      "\n",
      "Accuracy for titanic5_FMV_randomMinMax.csv: 0.7940074906367042\n",
      "Accuracy: 0.79\n",
      "\n",
      "Accuracy for titanic6_FMV_interpolation.csv: 0.7565543071161048\n",
      "Accuracy: 0.76\n",
      "\n",
      "Accuracy for titanic7_FMV_drop.csv: 0.7464788732394366\n",
      "Accuracy: 0.75\n",
      "\n"
     ]
    }
   ],
   "source": [
    "import pandas as pd\n",
    "from sklearn.model_selection import train_test_split\n",
    "from sklearn.ensemble import RandomForestClassifier\n",
    "from sklearn.metrics import accuracy_score\n",
    "from sklearn.tree import DecisionTreeClassifier\n",
    "import numpy as np\n",
    "import random\n",
    "np.random.seed(0)\n",
    "\n",
    "dataset_files = ['titanic1_FMV_mean.csv', \n",
    "                 'titanic2_FMV_median.csv',\n",
    "                 'titanic3_FMV_mode.csv',\n",
    "                 'titanic4_FMV_randomMeanStd.csv',\n",
    "                 'titanic5_FMV_randomMinMax.csv',\n",
    "                 'titanic6_FMV_interpolation.csv',\n",
    "                 'titanic7_FMV_drop.csv']\n",
    "\n",
    "for dataset_file in dataset_files:\n",
    "    df = pd.read_csv(dataset_file)\n",
    "    X = df.drop('Survived', axis=1)  \n",
    "    y = df['Survived']\n",
    "\n",
    "    X_train, X_test, y_train, y_test = train_test_split(X, y, test_size=0.3, random_state=42)\n",
    "\n",
    "    model = DecisionTreeClassifier()\n",
    "    model.fit(X_train, y_train)\n",
    "\n",
    "    y_pred = model.predict(X_test)\n",
    "    accuracy = accuracy_score(y_test, y_pred)\n",
    " \n",
    "    print(f\"Accuracy for {dataset_file}: {accuracy}\")\n",
    "    print(f'Accuracy: {accuracy:.2f}\\n')\n",
    "    \n"
   ]
  },
  {
   "cell_type": "markdown",
   "id": "6cfcba22",
   "metadata": {},
   "source": [
    "## Random Forest Classifier"
   ]
  },
  {
   "cell_type": "code",
   "execution_count": 108,
   "id": "f5d23e03",
   "metadata": {
    "scrolled": false
   },
   "outputs": [
    {
     "name": "stdout",
     "output_type": "stream",
     "text": [
      "Random Forest:\n",
      "Accuracy for titanic1_FMV_mean.csv: 0.7378277153558053\n",
      "Accuracy: 0.74\n",
      "\n",
      "Random Forest:\n",
      "Accuracy for titanic2_FMV_median.csv: 0.7677902621722846\n",
      "Accuracy: 0.77\n",
      "\n",
      "Random Forest:\n",
      "Accuracy for titanic3_FMV_mode.csv: 0.7715355805243446\n",
      "Accuracy: 0.77\n",
      "\n",
      "Random Forest:\n",
      "Accuracy for titanic4_FMV_randomMeanStd.csv: 0.7378277153558053\n",
      "Accuracy: 0.74\n",
      "\n",
      "Random Forest:\n",
      "Accuracy for titanic5_FMV_randomMinMax.csv: 0.7715355805243446\n",
      "Accuracy: 0.77\n",
      "\n",
      "Random Forest:\n",
      "Accuracy for titanic6_FMV_interpolation.csv: 0.7453183520599251\n",
      "Accuracy: 0.75\n",
      "\n",
      "Random Forest:\n",
      "Accuracy for titanic7_FMV_drop.csv: 0.7793427230046949\n",
      "Accuracy: 0.78\n",
      "\n"
     ]
    }
   ],
   "source": [
    "import pandas as pd\n",
    "from sklearn.model_selection import train_test_split\n",
    "from sklearn.ensemble import RandomForestClassifier\n",
    "from sklearn.metrics import accuracy_score\n",
    "import numpy as np\n",
    "import random\n",
    "np.random.seed(0)\n",
    "dataset_files = ['titanic1_FMV_mean.csv', \n",
    "                 'titanic2_FMV_median.csv',\n",
    "                 'titanic3_FMV_mode.csv',\n",
    "                 'titanic4_FMV_randomMeanStd.csv',\n",
    "                 'titanic5_FMV_randomMinMax.csv',\n",
    "                 'titanic6_FMV_interpolation.csv',\n",
    "                 'titanic7_FMV_drop.csv']\n",
    "\n",
    "for dataset_file in dataset_files:\n",
    "    df = pd.read_csv(dataset_file)\n",
    "    X = df.drop('Survived', axis=1)  \n",
    "    y = df['Survived']\n",
    "    \n",
    "    X_train, X_test, y_train, y_test = train_test_split(X, y, \n",
    "    test_size=0.3, random_state=42)\n",
    "\n",
    "    model = RandomForestClassifier()\n",
    "    model.fit(X_train, y_train)\n",
    "\n",
    "    y_pred = model.predict(X_test)\n",
    "    accuracy = accuracy_score(y_test, y_pred)\n",
    "    \n",
    "    print(f\"Random Forest:\")\n",
    "    print(f\"Accuracy for {dataset_file}: {accuracy}\")\n",
    "    print(f'Accuracy: {accuracy:.2f}\\n')\n",
    "    "
   ]
  },
  {
   "cell_type": "markdown",
   "id": "72381ba4",
   "metadata": {},
   "source": [
    "## Logistic Regression"
   ]
  },
  {
   "cell_type": "code",
   "execution_count": 109,
   "id": "13411e53",
   "metadata": {
    "scrolled": false
   },
   "outputs": [
    {
     "name": "stdout",
     "output_type": "stream",
     "text": [
      "Logistic regression:\n",
      "Accuracy for titanic1_FMV_mean.csv: 0.7677902621722846\n",
      "Accuracy: 0.77\n",
      "\n",
      "Logistic regression:\n",
      "Accuracy for titanic2_FMV_median.csv: 0.7715355805243446\n",
      "Accuracy: 0.77\n",
      "\n",
      "Logistic regression:\n",
      "Accuracy for titanic3_FMV_mode.csv: 0.7715355805243446\n",
      "Accuracy: 0.77\n",
      "\n",
      "Logistic regression:\n",
      "Accuracy for titanic4_FMV_randomMeanStd.csv: 0.7677902621722846\n",
      "Accuracy: 0.77\n",
      "\n",
      "Logistic regression:\n",
      "Accuracy for titanic5_FMV_randomMinMax.csv: 0.704119850187266\n",
      "Accuracy: 0.70\n",
      "\n",
      "Logistic regression:\n",
      "Accuracy for titanic6_FMV_interpolation.csv: 0.7677902621722846\n",
      "Accuracy: 0.77\n",
      "\n",
      "Logistic regression:\n",
      "Accuracy for titanic7_FMV_drop.csv: 0.7699530516431925\n",
      "Accuracy: 0.77\n",
      "\n"
     ]
    }
   ],
   "source": [
    "import pandas as pd\n",
    "from sklearn.model_selection import train_test_split\n",
    "from sklearn.metrics import accuracy_score\n",
    "from sklearn.linear_model import LogisticRegression\n",
    "import warnings\n",
    "warnings.filterwarnings(\"ignore\")\n",
    "import numpy as np\n",
    "import random\n",
    "np.random.seed(0)\n",
    "\n",
    "dataset_files = ['titanic1_FMV_mean.csv', \n",
    "                 'titanic2_FMV_median.csv',\n",
    "                 'titanic3_FMV_mode.csv',\n",
    "                 'titanic4_FMV_randomMeanStd.csv',\n",
    "                 'titanic5_FMV_randomMinMax.csv',\n",
    "                 'titanic6_FMV_interpolation.csv',\n",
    "                 'titanic7_FMV_drop.csv']\n",
    "\n",
    "for dataset_file in dataset_files:\n",
    "    df = pd.read_csv(dataset_file)\n",
    "    X = df.drop('Survived', axis=1) \n",
    "    y = df['Survived']\n",
    "\n",
    "    X_train, X_test, y_train, y_test = train_test_split(X, y, \n",
    "    test_size=0.3, random_state=42)\n",
    "\n",
    "    model = LogisticRegression()\n",
    "    model.fit(X_train, y_train)\n",
    "    \n",
    "    y_pred = model.predict(X_test)\n",
    "    accuracy = accuracy_score(y_test, y_pred)\n",
    "    \n",
    "    print(f\"Logistic regression:\")\n",
    "    print(f\"Accuracy for {dataset_file}: {accuracy}\")\n",
    "    print(f'Accuracy: {accuracy:.2f}\\n')\n",
    "    "
   ]
  },
  {
   "cell_type": "code",
   "execution_count": null,
   "id": "5c0fda90",
   "metadata": {},
   "outputs": [],
   "source": []
  },
  {
   "cell_type": "code",
   "execution_count": null,
   "id": "ca4909dc",
   "metadata": {},
   "outputs": [],
   "source": []
  }
 ],
 "metadata": {
  "kernelspec": {
   "display_name": "Python 3 (ipykernel)",
   "language": "python",
   "name": "python3"
  },
  "language_info": {
   "codemirror_mode": {
    "name": "ipython",
    "version": 3
   },
   "file_extension": ".py",
   "mimetype": "text/x-python",
   "name": "python",
   "nbconvert_exporter": "python",
   "pygments_lexer": "ipython3",
   "version": "3.8.13"
  }
 },
 "nbformat": 4,
 "nbformat_minor": 5
}
